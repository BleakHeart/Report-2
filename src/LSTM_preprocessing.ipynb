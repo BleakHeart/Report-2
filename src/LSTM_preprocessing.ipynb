{
 "cells": [
  {
   "cell_type": "code",
   "execution_count": 3,
   "metadata": {},
   "outputs": [],
   "source": [
    "import numpy as np\n",
    "import matplotlib.pyplot as plt\n",
    "import pandas as pd\n",
    "from datetime import timedelta\n",
    "from analysis import *\n",
    "import pickle as pkl"
   ]
  },
  {
   "cell_type": "code",
   "execution_count": 4,
   "metadata": {},
   "outputs": [],
   "source": [
    "from tensorflow.keras.models import Sequential, Model, load_model\n",
    "from tensorflow.keras.layers import LSTM, Dense, RepeatVector, TimeDistributed, \\\n",
    "    Input, BatchNormalization, multiply, concatenate, Flatten, Activation, dot\n",
    "from tensorflow.keras.optimizers import Adam\n",
    "from tensorflow.keras.utils import plot_model\n",
    "from tensorflow.keras.callbacks import EarlyStopping\n",
    "\n",
    "import pydot as pyd\n",
    "from tensorflow.keras.utils import plot_model, model_to_dot\n",
    "import tensorflow\n",
    "tensorflow.keras.utils.pydot = pyd"
   ]
  },
  {
   "cell_type": "code",
   "execution_count": 5,
   "metadata": {},
   "outputs": [],
   "source": [
    "data = pd.read_csv(\"../Data/daneOkresoweKSE.csv\", sep=';', skiprows=1, names=['Date', 'Hour', 'Minute', 'Load'])\n",
    "Electric = data.copy()\n",
    "Electric['Date'] = pd.to_datetime(Electric.Date)\n",
    "Electric.loc[Electric.Hour == 24, 'Date'] = Electric.loc[Electric.Hour == 24, 'Date'] + timedelta(days=1)\n",
    "Electric.loc[Electric.Hour == 24, 'Hour'] = 0\n",
    "Electric.Date = pd.to_datetime(Electric.Date.astype(str) + ' ' + Electric['Hour'].astype(str) + ':' + Electric.Minute.astype(str) + ':00')\n",
    "\n",
    "Electric = Electric[['Date', 'Load']]\n",
    "Electric['Minutes'] = Electric['Date'].dt.minute\n",
    "Electric['Hour'] = Electric['Date'].dt.hour"
   ]
  },
  {
   "cell_type": "code",
   "execution_count": 6,
   "metadata": {},
   "outputs": [
    {
     "data": {
      "text/html": [
       "<div>\n",
       "<style scoped>\n",
       "    .dataframe tbody tr th:only-of-type {\n",
       "        vertical-align: middle;\n",
       "    }\n",
       "\n",
       "    .dataframe tbody tr th {\n",
       "        vertical-align: top;\n",
       "    }\n",
       "\n",
       "    .dataframe thead th {\n",
       "        text-align: right;\n",
       "    }\n",
       "</style>\n",
       "<table border=\"1\" class=\"dataframe\">\n",
       "  <thead>\n",
       "    <tr style=\"text-align: right;\">\n",
       "      <th></th>\n",
       "      <th>Date</th>\n",
       "      <th>Load</th>\n",
       "      <th>Minutes</th>\n",
       "      <th>Hour</th>\n",
       "    </tr>\n",
       "  </thead>\n",
       "  <tbody>\n",
       "    <tr>\n",
       "      <th>0</th>\n",
       "      <td>2008-01-01 00:15:00</td>\n",
       "      <td>15938.8</td>\n",
       "      <td>15</td>\n",
       "      <td>0</td>\n",
       "    </tr>\n",
       "    <tr>\n",
       "      <th>1</th>\n",
       "      <td>2008-01-01 00:30:00</td>\n",
       "      <td>15770.4</td>\n",
       "      <td>30</td>\n",
       "      <td>0</td>\n",
       "    </tr>\n",
       "    <tr>\n",
       "      <th>2</th>\n",
       "      <td>2008-01-01 00:45:00</td>\n",
       "      <td>15766.3</td>\n",
       "      <td>45</td>\n",
       "      <td>0</td>\n",
       "    </tr>\n",
       "    <tr>\n",
       "      <th>3</th>\n",
       "      <td>2008-01-01 01:00:00</td>\n",
       "      <td>15415.2</td>\n",
       "      <td>0</td>\n",
       "      <td>1</td>\n",
       "    </tr>\n",
       "    <tr>\n",
       "      <th>4</th>\n",
       "      <td>2008-01-01 01:15:00</td>\n",
       "      <td>15351.8</td>\n",
       "      <td>15</td>\n",
       "      <td>1</td>\n",
       "    </tr>\n",
       "    <tr>\n",
       "      <th>...</th>\n",
       "      <td>...</td>\n",
       "      <td>...</td>\n",
       "      <td>...</td>\n",
       "      <td>...</td>\n",
       "    </tr>\n",
       "    <tr>\n",
       "      <th>315643</th>\n",
       "      <td>2016-12-31 23:00:00</td>\n",
       "      <td>15952.7</td>\n",
       "      <td>0</td>\n",
       "      <td>23</td>\n",
       "    </tr>\n",
       "    <tr>\n",
       "      <th>315644</th>\n",
       "      <td>2016-12-31 23:15:00</td>\n",
       "      <td>15865.3</td>\n",
       "      <td>15</td>\n",
       "      <td>23</td>\n",
       "    </tr>\n",
       "    <tr>\n",
       "      <th>315645</th>\n",
       "      <td>2016-12-31 23:30:00</td>\n",
       "      <td>15693.5</td>\n",
       "      <td>30</td>\n",
       "      <td>23</td>\n",
       "    </tr>\n",
       "    <tr>\n",
       "      <th>315646</th>\n",
       "      <td>2016-12-31 23:45:00</td>\n",
       "      <td>15508.3</td>\n",
       "      <td>45</td>\n",
       "      <td>23</td>\n",
       "    </tr>\n",
       "    <tr>\n",
       "      <th>315647</th>\n",
       "      <td>2017-01-01 00:00:00</td>\n",
       "      <td>15235.2</td>\n",
       "      <td>0</td>\n",
       "      <td>0</td>\n",
       "    </tr>\n",
       "  </tbody>\n",
       "</table>\n",
       "<p>315648 rows × 4 columns</p>\n",
       "</div>"
      ],
      "text/plain": [
       "                      Date     Load  Minutes  Hour\n",
       "0      2008-01-01 00:15:00  15938.8       15     0\n",
       "1      2008-01-01 00:30:00  15770.4       30     0\n",
       "2      2008-01-01 00:45:00  15766.3       45     0\n",
       "3      2008-01-01 01:00:00  15415.2        0     1\n",
       "4      2008-01-01 01:15:00  15351.8       15     1\n",
       "...                    ...      ...      ...   ...\n",
       "315643 2016-12-31 23:00:00  15952.7        0    23\n",
       "315644 2016-12-31 23:15:00  15865.3       15    23\n",
       "315645 2016-12-31 23:30:00  15693.5       30    23\n",
       "315646 2016-12-31 23:45:00  15508.3       45    23\n",
       "315647 2017-01-01 00:00:00  15235.2        0     0\n",
       "\n",
       "[315648 rows x 4 columns]"
      ]
     },
     "execution_count": 6,
     "metadata": {},
     "output_type": "execute_result"
    }
   ],
   "source": [
    "Electric"
   ]
  },
  {
   "cell_type": "code",
   "execution_count": 22,
   "metadata": {},
   "outputs": [],
   "source": [
    "n = 2000\n",
    "x = np.arange(n)\n",
    "y = Electric.Load.to_numpy()[-n:]"
   ]
  },
  {
   "cell_type": "markdown",
   "metadata": {},
   "source": [
    "1. Split sequences to 80% train set and 20% test set"
   ]
  },
  {
   "cell_type": "code",
   "execution_count": 23,
   "metadata": {},
   "outputs": [
    {
     "name": "stdout",
     "output_type": "stream",
     "text": [
      "1600\n"
     ]
    }
   ],
   "source": [
    "train_ratio = 0.8\n",
    "train_len = int(train_ratio * x.shape[0])\n",
    "print(train_len)"
   ]
  },
  {
   "cell_type": "markdown",
   "metadata": {},
   "source": [
    "2. Detrending"
   ]
  },
  {
   "cell_type": "code",
   "execution_count": 24,
   "metadata": {},
   "outputs": [],
   "source": [
    "y_trend = linear_fit(x=x, y=y)\n",
    "y_detrend = y - y_trend\n",
    "\n",
    "x_trend_param = np.polyfit(y[:train_len], x[:train_len], 1)"
   ]
  },
  {
   "cell_type": "markdown",
   "metadata": {},
   "source": [
    "3. Combine sequences"
   ]
  },
  {
   "cell_type": "code",
   "execution_count": 25,
   "metadata": {},
   "outputs": [
    {
     "name": "stdout",
     "output_type": "stream",
     "text": [
      "(2000, 3)\n",
      "[[-7.12107977e+03  0.00000000e+00  1.00000000e+00]\n",
      " [-7.05091152e+03  1.00000000e+00  1.00000000e+00]\n",
      " [-7.23194326e+03  2.00000000e+00  1.00000000e+00]\n",
      " ...\n",
      " [-2.32666974e+03  1.99700000e+03  0.00000000e+00]\n",
      " [-2.51000148e+03  1.99800000e+03  0.00000000e+00]\n",
      " [-2.78123323e+03  1.99900000e+03  0.00000000e+00]]\n"
     ]
    }
   ],
   "source": [
    "x_lbl = np.column_stack([y_detrend, x, [1]*train_len+[0]*(len(x)-train_len)])\n",
    "print(x_lbl.shape)\n",
    "print(x_lbl)"
   ]
  },
  {
   "cell_type": "markdown",
   "metadata": {},
   "source": [
    "4. Normalize"
   ]
  },
  {
   "cell_type": "code",
   "execution_count": 26,
   "metadata": {},
   "outputs": [
    {
     "name": "stdout",
     "output_type": "stream",
     "text": [
      "[5689.681170861662, 1599.0, 1]\n",
      "[[-1.25157800e+00  0.00000000e+00  1.00000000e+00]\n",
      " [-1.23924545e+00  6.25390869e-04  1.00000000e+00]\n",
      " [-1.27106301e+00  1.25078174e-03  1.00000000e+00]\n",
      " ...\n",
      " [-4.08927965e-01  1.24890557e+00  0.00000000e+00]\n",
      " [-4.41149760e-01  1.24953096e+00  0.00000000e+00]\n",
      " [-4.88820576e-01  1.25015635e+00  0.00000000e+00]]\n"
     ]
    }
   ],
   "source": [
    "x_train_max = x_lbl[x_lbl[:, 2]==1, :2].max(axis=0)\n",
    "x_train_max = x_train_max.tolist()+[1]  # only normalize for the first 2 columns\n",
    "print(x_train_max)\n",
    "\n",
    "x_normalize = np.divide(x_lbl, x_train_max)\n",
    "print(x_normalize)"
   ]
  },
  {
   "cell_type": "code",
   "execution_count": 27,
   "metadata": {},
   "outputs": [
    {
     "data": {
      "image/png": "[encoded data removed]",
      "text/plain": [
       "<Figure size 1080x288 with 1 Axes>"
      ]
     },
     "metadata": {
      "needs_background": "light"
     },
     "output_type": "display_data"
    }
   ],
   "source": [
    "plt.figure(figsize=(15, 4))\n",
    "plt.plot(range(train_len), x_normalize[:train_len, 0], label='x_train_normalized')\n",
    "plt.plot(range(train_len), x_normalize[:train_len, 1], label='trend_train_normalized')\n",
    "plt.plot(range(train_len, len(x_normalize)), x_normalize[train_len:, 0], label='x_test_normalized')\n",
    "plt.plot(range(train_len, len(x_normalize)), x_normalize[train_len:, 1], label='trend_test_normalized')\n",
    "plt.legend(loc='upper center', bbox_to_anchor=(0.5, -0.15), fancybox=True, shadow=False, ncol=2)\n",
    "plt.show()"
   ]
  },
  {
   "cell_type": "markdown",
   "metadata": {},
   "source": [
    "5. Truncate"
   ]
  },
  {
   "cell_type": "code",
   "execution_count": 28,
   "metadata": {},
   "outputs": [
    {
     "name": "stdout",
     "output_type": "stream",
     "text": [
      "(1781, 200, 2) (1781, 20, 2) (1781,)\n"
     ]
    }
   ],
   "source": [
    "def truncate(x, feature_cols=range(2), target_cols=range(2), label_col=3, train_len=100, test_len=20):\n",
    "    in_, out_, lbl = [], [], []\n",
    "    for i in range(len(x)-train_len-test_len+1):\n",
    "        in_.append(x[i:(i+train_len), feature_cols].tolist())\n",
    "        out_.append(x[(i+train_len):(i+train_len+test_len), target_cols].tolist())\n",
    "        lbl.append(x[i+train_len, label_col])\n",
    "    return np.array(in_), np.array(out_), np.array(lbl)\n",
    "\n",
    "X_in, X_out, lbl = truncate(x_normalize, feature_cols=range(2), target_cols=range(2), \n",
    "                            label_col=2, train_len=200, test_len=20)\n",
    "print(X_in.shape, X_out.shape, lbl.shape)"
   ]
  },
  {
   "cell_type": "code",
   "execution_count": 29,
   "metadata": {},
   "outputs": [
    {
     "name": "stdout",
     "output_type": "stream",
     "text": [
      "(1400, 200, 2) (1400, 20, 2)\n",
      "(381, 200, 2) (381, 20, 2)\n"
     ]
    }
   ],
   "source": [
    "X_input_train = X_in[np.where(lbl==1)]\n",
    "X_output_train = X_out[np.where(lbl==1)]\n",
    "X_input_test = X_in[np.where(lbl==0)]\n",
    "X_output_test = X_out[np.where(lbl==0)]\n",
    "print(X_input_train.shape, X_output_train.shape)\n",
    "print(X_input_test.shape, X_output_test.shape)"
   ]
  },
  {
   "cell_type": "code",
   "execution_count": 30,
   "metadata": {},
   "outputs": [],
   "source": [
    "data = {\n",
    "    'X_input_train': X_input_train, \n",
    "    'X_output_train': X_output_train, \n",
    "    'X_input_test': X_input_test, \n",
    "    'X_output_test': X_output_test,\n",
    "    'X_trend': y_trend,\n",
    "    'x_trend_param': x_trend_param,\n",
    "    'x_train_max': x_train_max\n",
    "         }\n",
    "\n",
    "\n",
    "pkl.dump(data, open('../Data/data.pkl', 'wb'))"
   ]
  }
 ],
 "metadata": {
  "interpreter": {
   "hash": "de072921dc87486613898b1ef56959cc98c50a630fb49de1898fb32d92a683cf"
  },
  "kernelspec": {
   "display_name": "Python 3.9.5 64-bit",
   "language": "python",
   "name": "python3"
  },
  "language_info": {
   "codemirror_mode": {
    "name": "ipython",
    "version": 3
   },
   "file_extension": ".py",
   "mimetype": "text/x-python",
   "name": "python",
   "nbconvert_exporter": "python",
   "pygments_lexer": "ipython3",
   "version": "3.9.5"
  },
  "orig_nbformat": 4
 },
 "nbformat": 4,
 "nbformat_minor": 2
}
