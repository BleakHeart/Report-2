{
 "cells": [
  {
   "cell_type": "code",
   "execution_count": 1,
   "metadata": {},
   "outputs": [],
   "source": [
    "import pandas as pd\n",
    "import numpy as np \n",
    "from datetime import timedelta\n",
    "import sys\n",
    "sys.path.append('../lib/')\n",
    "from utils import *\n",
    "from analysis import * \n",
    "import matplotlib.pyplot as plt\n",
    "from sklearn.metrics import mean_squared_error as mse"
   ]
  },
  {
   "cell_type": "code",
   "execution_count": 2,
   "metadata": {},
   "outputs": [],
   "source": [
    "data = pd.read_csv(\"../Data/daneOkresoweKSE.csv\", sep=';', \n",
    "                   skiprows=1, names=['Date', 'Hour', 'Minute', 'Load'])\n",
    "Electric = data.copy()\n",
    "Electric['Date'] = pd.to_datetime(Electric.Date)\n",
    "Electric.loc[Electric.Hour == 24, \n",
    "             'Date'] = Electric.loc[Electric.Hour == 24, 'Date'] + timedelta(days=1)\n",
    "Electric.loc[Electric.Hour == 24, 'Hour'] = 0\n",
    "Electric.Date = pd.to_datetime(Electric.Date.astype(str) + ' ' + \n",
    "                               Electric['Hour'].astype(str) + ':' + \n",
    "                               Electric.Minute.astype(str) + ':00')\n",
    "\n",
    "Electric = Electric[['Date', 'Load']]\n",
    "Electric['Minutes'] = Electric['Date'].dt.minute\n",
    "Electric['Hour'] = Electric['Date'].dt.hour"
   ]
  },
  {
   "cell_type": "code",
   "execution_count": 4,
   "metadata": {},
   "outputs": [
    {
     "data": {
      "text/plain": [
       "<AxesSubplot:>"
      ]
     },
     "execution_count": 4,
     "metadata": {},
     "output_type": "execute_result"
    },
    {
     "data": {
      "image/png": "[encoded data removed]",
      "text/plain": [
       "<Figure size 432x288 with 1 Axes>"
      ]
     },
     "metadata": {
      "needs_background": "light"
     },
     "output_type": "display_data"
    }
   ],
   "source": [
    "df = resampling_data(Electric)\n",
    "\n",
    "df = df[~df.Load.isna()].reset_index(drop=True)\n",
    "df['Load'].plot()"
   ]
  },
  {
   "cell_type": "code",
   "execution_count": 5,
   "metadata": {},
   "outputs": [
    {
     "data": {
      "text/html": [
       "<div>\n",
       "<style scoped>\n",
       "    .dataframe tbody tr th:only-of-type {\n",
       "        vertical-align: middle;\n",
       "    }\n",
       "\n",
       "    .dataframe tbody tr th {\n",
       "        vertical-align: top;\n",
       "    }\n",
       "\n",
       "    .dataframe thead th {\n",
       "        text-align: right;\n",
       "    }\n",
       "</style>\n",
       "<table border=\"1\" class=\"dataframe\">\n",
       "  <thead>\n",
       "    <tr style=\"text-align: right;\">\n",
       "      <th></th>\n",
       "      <th>Date</th>\n",
       "      <th>Hour</th>\n",
       "      <th>Minutes</th>\n",
       "      <th>Load</th>\n",
       "      <th>Day</th>\n",
       "      <th>Holiday</th>\n",
       "      <th>Day id</th>\n",
       "      <th>Load_lin</th>\n",
       "      <th>Load_detrend</th>\n",
       "    </tr>\n",
       "  </thead>\n",
       "  <tbody>\n",
       "    <tr>\n",
       "      <th>0</th>\n",
       "      <td>2008-01-01 01:00:00</td>\n",
       "      <td>1.0</td>\n",
       "      <td>22.5</td>\n",
       "      <td>60819.9</td>\n",
       "      <td>1</td>\n",
       "      <td>True</td>\n",
       "      <td>1</td>\n",
       "      <td>68781.328648</td>\n",
       "      <td>-7961.428648</td>\n",
       "    </tr>\n",
       "    <tr>\n",
       "      <th>1</th>\n",
       "      <td>2008-01-01 02:00:00</td>\n",
       "      <td>2.0</td>\n",
       "      <td>22.5</td>\n",
       "      <td>57869.8</td>\n",
       "      <td>1</td>\n",
       "      <td>True</td>\n",
       "      <td>1</td>\n",
       "      <td>68781.407929</td>\n",
       "      <td>-10911.607929</td>\n",
       "    </tr>\n",
       "    <tr>\n",
       "      <th>2</th>\n",
       "      <td>2008-01-01 03:00:00</td>\n",
       "      <td>3.0</td>\n",
       "      <td>22.5</td>\n",
       "      <td>55672.8</td>\n",
       "      <td>1</td>\n",
       "      <td>True</td>\n",
       "      <td>1</td>\n",
       "      <td>68781.487211</td>\n",
       "      <td>-13108.687211</td>\n",
       "    </tr>\n",
       "    <tr>\n",
       "      <th>3</th>\n",
       "      <td>2008-01-01 04:00:00</td>\n",
       "      <td>4.0</td>\n",
       "      <td>22.5</td>\n",
       "      <td>55331.7</td>\n",
       "      <td>1</td>\n",
       "      <td>True</td>\n",
       "      <td>1</td>\n",
       "      <td>68781.566492</td>\n",
       "      <td>-13449.866492</td>\n",
       "    </tr>\n",
       "    <tr>\n",
       "      <th>4</th>\n",
       "      <td>2008-01-01 05:00:00</td>\n",
       "      <td>5.0</td>\n",
       "      <td>22.5</td>\n",
       "      <td>54527.0</td>\n",
       "      <td>1</td>\n",
       "      <td>True</td>\n",
       "      <td>1</td>\n",
       "      <td>68781.645773</td>\n",
       "      <td>-14254.645773</td>\n",
       "    </tr>\n",
       "    <tr>\n",
       "      <th>...</th>\n",
       "      <td>...</td>\n",
       "      <td>...</td>\n",
       "      <td>...</td>\n",
       "      <td>...</td>\n",
       "      <td>...</td>\n",
       "      <td>...</td>\n",
       "      <td>...</td>\n",
       "      <td>...</td>\n",
       "      <td>...</td>\n",
       "    </tr>\n",
       "    <tr>\n",
       "      <th>78907</th>\n",
       "      <td>2016-12-31 20:00:00</td>\n",
       "      <td>20.0</td>\n",
       "      <td>22.5</td>\n",
       "      <td>70390.3</td>\n",
       "      <td>5</td>\n",
       "      <td>False</td>\n",
       "      <td>366</td>\n",
       "      <td>75037.169791</td>\n",
       "      <td>-4646.869791</td>\n",
       "    </tr>\n",
       "    <tr>\n",
       "      <th>78908</th>\n",
       "      <td>2016-12-31 21:00:00</td>\n",
       "      <td>21.0</td>\n",
       "      <td>22.5</td>\n",
       "      <td>66925.1</td>\n",
       "      <td>5</td>\n",
       "      <td>False</td>\n",
       "      <td>366</td>\n",
       "      <td>75037.249072</td>\n",
       "      <td>-8112.149072</td>\n",
       "    </tr>\n",
       "    <tr>\n",
       "      <th>78909</th>\n",
       "      <td>2016-12-31 22:00:00</td>\n",
       "      <td>22.0</td>\n",
       "      <td>22.5</td>\n",
       "      <td>64900.1</td>\n",
       "      <td>5</td>\n",
       "      <td>False</td>\n",
       "      <td>366</td>\n",
       "      <td>75037.328354</td>\n",
       "      <td>-10137.228354</td>\n",
       "    </tr>\n",
       "    <tr>\n",
       "      <th>78910</th>\n",
       "      <td>2016-12-31 23:00:00</td>\n",
       "      <td>23.0</td>\n",
       "      <td>22.5</td>\n",
       "      <td>63019.8</td>\n",
       "      <td>5</td>\n",
       "      <td>False</td>\n",
       "      <td>366</td>\n",
       "      <td>75037.407635</td>\n",
       "      <td>-12017.607635</td>\n",
       "    </tr>\n",
       "    <tr>\n",
       "      <th>78911</th>\n",
       "      <td>2017-01-01 00:00:00</td>\n",
       "      <td>0.0</td>\n",
       "      <td>0.0</td>\n",
       "      <td>63019.8</td>\n",
       "      <td>6</td>\n",
       "      <td>True</td>\n",
       "      <td>1</td>\n",
       "      <td>75037.486916</td>\n",
       "      <td>-12017.686916</td>\n",
       "    </tr>\n",
       "  </tbody>\n",
       "</table>\n",
       "<p>78912 rows × 9 columns</p>\n",
       "</div>"
      ],
      "text/plain": [
       "                     Date  Hour  Minutes     Load  Day  Holiday  Day id  \\\n",
       "0     2008-01-01 01:00:00   1.0     22.5  60819.9    1     True       1   \n",
       "1     2008-01-01 02:00:00   2.0     22.5  57869.8    1     True       1   \n",
       "2     2008-01-01 03:00:00   3.0     22.5  55672.8    1     True       1   \n",
       "3     2008-01-01 04:00:00   4.0     22.5  55331.7    1     True       1   \n",
       "4     2008-01-01 05:00:00   5.0     22.5  54527.0    1     True       1   \n",
       "...                   ...   ...      ...      ...  ...      ...     ...   \n",
       "78907 2016-12-31 20:00:00  20.0     22.5  70390.3    5    False     366   \n",
       "78908 2016-12-31 21:00:00  21.0     22.5  66925.1    5    False     366   \n",
       "78909 2016-12-31 22:00:00  22.0     22.5  64900.1    5    False     366   \n",
       "78910 2016-12-31 23:00:00  23.0     22.5  63019.8    5    False     366   \n",
       "78911 2017-01-01 00:00:00   0.0      0.0  63019.8    6     True       1   \n",
       "\n",
       "           Load_lin  Load_detrend  \n",
       "0      68781.328648  -7961.428648  \n",
       "1      68781.407929 -10911.607929  \n",
       "2      68781.487211 -13108.687211  \n",
       "3      68781.566492 -13449.866492  \n",
       "4      68781.645773 -14254.645773  \n",
       "...             ...           ...  \n",
       "78907  75037.169791  -4646.869791  \n",
       "78908  75037.249072  -8112.149072  \n",
       "78909  75037.328354 -10137.228354  \n",
       "78910  75037.407635 -12017.607635  \n",
       "78911  75037.486916 -12017.686916  \n",
       "\n",
       "[78912 rows x 9 columns]"
      ]
     },
     "execution_count": 5,
     "metadata": {},
     "output_type": "execute_result"
    }
   ],
   "source": [
    "df['Load_lin'] = linear_fit(x=df.index, y=df.Load)\n",
    "df['Load_detrend'] = df.Load - df['Load_lin']\n",
    "\n",
    "df"
   ]
  },
  {
   "cell_type": "code",
   "execution_count": 24,
   "metadata": {},
   "outputs": [],
   "source": [
    "x_notrend = df['Load_detrend'].to_numpy()\n",
    "n = x_notrend.size\n",
    "n_harm = 10\n",
    "\n",
    "x_freqdom = np.fft.fft(x_notrend)   # signal in frequencies domain\n",
    "f = np.fft.fftfreq(n)               # frequencies\n",
    "\n",
    "indexes = list(range(n))\n",
    "indexes.sort(key= lambda i: np.absolute(f[i]))\n",
    "\n",
    "t = np.arange(0, n)\n",
    "restored_sign = np.zeros(t.size)\n",
    "\n",
    "freq = []\n",
    "for i in indexes[1:2 + n_harm * 2]:\n",
    "    freq.append(f[i])\n",
    "    amplitude = np.absolute(x_freqdom[i]) / n\n",
    "    phase = np.angle(x_freqdom[i])\n",
    "    restored_sign += amplitude * np.cos(2 * np.pi * f[i] * t + phase)"
   ]
  },
  {
   "cell_type": "code",
   "execution_count": 25,
   "metadata": {},
   "outputs": [],
   "source": [
    "freq = np.array(freq)"
   ]
  },
  {
   "cell_type": "markdown",
   "metadata": {},
   "source": [
    "# Frequencies expressed in days "
   ]
  },
  {
   "cell_type": "code",
   "execution_count": 27,
   "metadata": {},
   "outputs": [
    {
     "data": {
      "text/plain": [
       "array([3288.        , 1644.        , 1096.        ,  822.        ,\n",
       "        657.6       ,  548.        ,  469.71428571,  411.        ,\n",
       "        365.33333333,  328.8       ,  298.90909091])"
      ]
     },
     "execution_count": 27,
     "metadata": {},
     "output_type": "execute_result"
    }
   ],
   "source": [
    "T = 1 / (24 * np.unique(np.abs(freq[:])))\n",
    "T"
   ]
  },
  {
   "cell_type": "code",
   "execution_count": 28,
   "metadata": {},
   "outputs": [
    {
     "name": "stdout",
     "output_type": "stream",
     "text": [
      "9.008219178082191 years\n"
     ]
    }
   ],
   "source": [
    "print(3288/365, \"years\") "
   ]
  }
 ],
 "metadata": {
  "interpreter": {
   "hash": "9bec9a4fae84d278cecf29348292e5365ba4299e5d55caa00177d12a99bb9320"
  },
  "kernelspec": {
   "display_name": "Python 3.9.6 64-bit",
   "language": "python",
   "name": "python3"
  },
  "language_info": {
   "codemirror_mode": {
    "name": "ipython",
    "version": 3
   },
   "file_extension": ".py",
   "mimetype": "text/x-python",
   "name": "python",
   "nbconvert_exporter": "python",
   "pygments_lexer": "ipython3",
   "version": "3.9.6"
  },
  "orig_nbformat": 4
 },
 "nbformat": 4,
 "nbformat_minor": 2
}
