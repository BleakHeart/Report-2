{
 "cells": [
  {
   "cell_type": "code",
   "execution_count": 1,
   "id": "415ddca7",
   "metadata": {
    "execution": {
     "iopub.execute_input": "2021-12-29T11:51:56.908953Z",
     "iopub.status.busy": "2021-12-29T11:51:56.907465Z",
     "iopub.status.idle": "2021-12-29T11:52:02.027597Z",
     "shell.execute_reply": "2021-12-29T11:52:02.026995Z",
     "shell.execute_reply.started": "2021-12-02T18:27:04.426047Z"
    },
    "id": "JmVrW6rSy87F",
    "outputId": "484a0beb-acde-41f3-f5c7-cb3340ea700b",
    "papermill": {
     "duration": 5.145786,
     "end_time": "2021-12-29T11:52:02.027755",
     "exception": false,
     "start_time": "2021-12-29T11:51:56.881969",
     "status": "completed"
    },
    "tags": []
   },
   "outputs": [],
   "source": [
    "import tensorflow as tf\n",
    "\n",
    "import pandas as pd\n",
    "import numpy as np \n",
    "from datetime import datetime, timedelta\n",
    "import holidays\n",
    "\n",
    "import matplotlib as mpl\n",
    "import matplotlib.pyplot as plt\n",
    "import seaborn as sns\n",
    "import pywt"
   ]
  },
  {
   "cell_type": "code",
   "execution_count": 2,
   "id": "d9ec82c0",
   "metadata": {
    "execution": {
     "iopub.execute_input": "2021-12-29T11:52:02.078858Z",
     "iopub.status.busy": "2021-12-29T11:52:02.078276Z",
     "iopub.status.idle": "2021-12-29T11:52:02.083890Z",
     "shell.execute_reply": "2021-12-29T11:52:02.084300Z",
     "shell.execute_reply.started": "2021-12-02T18:27:09.570322Z"
    },
    "papermill": {
     "duration": 0.034291,
     "end_time": "2021-12-29T11:52:02.084432",
     "exception": false,
     "start_time": "2021-12-29T11:52:02.050141",
     "status": "completed"
    },
    "tags": []
   },
   "outputs": [
    {
     "data": {
      "text/plain": [
       "'2.8.0'"
      ]
     },
     "execution_count": 2,
     "metadata": {},
     "output_type": "execute_result"
    }
   ],
   "source": [
    "tf.__version__"
   ]
  },
  {
   "cell_type": "code",
   "execution_count": 3,
   "id": "005f90ee",
   "metadata": {
    "execution": {
     "iopub.execute_input": "2021-12-29T11:52:03.708006Z",
     "iopub.status.busy": "2021-12-29T11:52:03.707428Z",
     "iopub.status.idle": "2021-12-29T11:52:03.713399Z",
     "shell.execute_reply": "2021-12-29T11:52:03.713780Z",
     "shell.execute_reply.started": "2021-12-02T18:27:09.580027Z"
    },
    "papermill": {
     "duration": 1.608131,
     "end_time": "2021-12-29T11:52:03.713929",
     "exception": false,
     "start_time": "2021-12-29T11:52:02.105798",
     "status": "completed"
    },
    "tags": []
   },
   "outputs": [
    {
     "name": "stdout",
     "output_type": "stream",
     "text": [
      "WARNING:tensorflow:From C:\\Users\\cosmi\\AppData\\Local\\Temp/ipykernel_10296/337460670.py:1: is_gpu_available (from tensorflow.python.framework.test_util) is deprecated and will be removed in a future version.\n",
      "Instructions for updating:\n",
      "Use `tf.config.list_physical_devices('GPU')` instead.\n"
     ]
    },
    {
     "data": {
      "text/plain": [
       "False"
      ]
     },
     "execution_count": 3,
     "metadata": {},
     "output_type": "execute_result"
    }
   ],
   "source": [
    "tf.test.is_gpu_available()"
   ]
  },
  {
   "cell_type": "markdown",
   "id": "a4f85bcd",
   "metadata": {
    "id": "ZXAtbCCYG5rC",
    "papermill": {
     "duration": 0.02102,
     "end_time": "2021-12-29T11:52:03.756464",
     "exception": false,
     "start_time": "2021-12-29T11:52:03.735444",
     "status": "completed"
    },
    "tags": []
   },
   "source": [
    "# Importing data and building dataset"
   ]
  },
  {
   "cell_type": "code",
   "execution_count": 4,
   "id": "4bd4d458",
   "metadata": {
    "execution": {
     "iopub.execute_input": "2021-12-29T11:52:03.807777Z",
     "iopub.status.busy": "2021-12-29T11:52:03.807231Z",
     "iopub.status.idle": "2021-12-29T11:52:07.372588Z",
     "shell.execute_reply": "2021-12-29T11:52:07.373441Z",
     "shell.execute_reply.started": "2021-12-02T18:27:11.352671Z"
    },
    "id": "Bq7gK3dUzE5G",
    "papermill": {
     "duration": 3.594548,
     "end_time": "2021-12-29T11:52:07.373651",
     "exception": false,
     "start_time": "2021-12-29T11:52:03.779103",
     "status": "completed"
    },
    "tags": []
   },
   "outputs": [],
   "source": [
    "data = pd.read_csv(\"../Data/daneOkresoweKSE.csv\", sep=';', skiprows=1, names=['Date', 'Hour', 'Minute', 'Load'])\n",
    "Electric = data.copy()\n",
    "Electric['Date'] = pd.to_datetime(Electric.Date)\n",
    "Electric.loc[Electric.Hour == 24, 'Date'] = Electric.loc[Electric.Hour == 24, 'Date'] + timedelta(days=1)\n",
    "Electric.loc[Electric.Hour == 24, 'Hour'] = 0\n",
    "Electric.Date = pd.to_datetime(Electric.Date.astype(str) + ' ' + Electric['Hour'].astype(str) + ':' + Electric.Minute.astype(str) + ':00')\n",
    "Electric.set_index('Date', inplace=True)"
   ]
  },
  {
   "cell_type": "code",
   "execution_count": 5,
   "id": "4e703526",
   "metadata": {
    "execution": {
     "iopub.execute_input": "2021-12-29T11:52:07.469300Z",
     "iopub.status.busy": "2021-12-29T11:52:07.464872Z",
     "iopub.status.idle": "2021-12-29T11:52:11.023574Z",
     "shell.execute_reply": "2021-12-29T11:52:11.022900Z",
     "shell.execute_reply.started": "2021-12-02T18:27:14.584254Z"
    },
    "papermill": {
     "duration": 3.596441,
     "end_time": "2021-12-29T11:52:11.023711",
     "exception": false,
     "start_time": "2021-12-29T11:52:07.427270",
     "status": "completed"
    },
    "tags": []
   },
   "outputs": [],
   "source": [
    "data.reset_index(inplace=True)\n",
    "data['Date'] = pd.to_datetime(data.Date)\n",
    "data.loc[data.Hour == 24, 'Date'] = data.loc[data.Hour == 24, 'Date'] + timedelta(days=1)\n",
    "data.loc[data.Hour == 24, 'Hour'] = 0\n",
    "data.Date = pd.to_datetime(data.Date.astype(str) + ' ' + data['Hour'].astype(str) + ':' + data.Minute.astype(str) + ':00')\n",
    "data.set_index('Date', inplace=True)\n",
    "\n",
    "fig_width_pt = 222.62206                # Get this from LaTeX using \\the\\columnwidth\n",
    "inches_per_pt = 1.0/72.27               # Convert pt to inches\n",
    "golden_mean = (np.sqrt(5)-1.0)/2.0         # Aesthetic ratio\n",
    "fig_width = fig_width_pt*inches_per_pt  # width in inches\n",
    "fig_height =fig_width*golden_mean       # height in inches"
   ]
  },
  {
   "cell_type": "code",
   "execution_count": 6,
   "id": "c14ede29",
   "metadata": {
    "execution": {
     "iopub.execute_input": "2021-12-29T11:52:11.087005Z",
     "iopub.status.busy": "2021-12-29T11:52:11.086339Z",
     "iopub.status.idle": "2021-12-29T11:52:15.902723Z",
     "shell.execute_reply": "2021-12-29T11:52:15.902127Z",
     "shell.execute_reply.started": "2021-12-02T18:27:18.050026Z"
    },
    "papermill": {
     "duration": 4.857734,
     "end_time": "2021-12-29T11:52:15.902857",
     "exception": false,
     "start_time": "2021-12-29T11:52:11.045123",
     "status": "completed"
    },
    "tags": []
   },
   "outputs": [
    {
     "data": {
      "image/png": "[encoded data removed]",
      "text/plain": [
       "<Figure size 221.79x137.074 with 1 Axes>"
      ]
     },
     "metadata": {
      "needs_background": "light"
     },
     "output_type": "display_data"
    }
   ],
   "source": [
    "plt.figure(figsize=(fig_width, fig_height), constrained_layout=True)\n",
    "plt.plot(data.Load, c='k', linewidth=0.1)\n",
    "plt.xticks(rotation=45)\n",
    "plt.xlabel('Date')\n",
    "plt.ylabel('Load (MWh)')\n",
    "#plt.title('Poland electricity consumption', fontsize=10)\n",
    "\n",
    "from matplotlib import ticker\n",
    "formatter = ticker.ScalarFormatter(useMathText=True)\n",
    "formatter.set_scientific(True) \n",
    "formatter.set_powerlimits((-1,1)) \n",
    "\n",
    "ax = plt.gca()\n",
    "ax.yaxis.set_major_formatter(formatter) \n",
    "\n",
    "#plt.savefig('Poland_Load.png', dpi=2000, transparent=False)"
   ]
  },
  {
   "cell_type": "markdown",
   "id": "8ed9c7b0",
   "metadata": {
    "papermill": {
     "duration": 0.026863,
     "end_time": "2021-12-29T11:52:17.932315",
     "exception": false,
     "start_time": "2021-12-29T11:52:17.905452",
     "status": "completed"
    },
    "tags": []
   },
   "source": [
    "# Resampling the signal"
   ]
  },
  {
   "cell_type": "code",
   "execution_count": 7,
   "id": "e1d7faba",
   "metadata": {
    "execution": {
     "iopub.execute_input": "2021-12-29T11:52:17.992312Z",
     "iopub.status.busy": "2021-12-29T11:52:17.991731Z",
     "iopub.status.idle": "2021-12-29T11:52:18.050876Z",
     "shell.execute_reply": "2021-12-29T11:52:18.050324Z",
     "shell.execute_reply.started": "2021-12-02T18:27:27.650832Z"
    },
    "papermill": {
     "duration": 0.091593,
     "end_time": "2021-12-29T11:52:18.051001",
     "exception": false,
     "start_time": "2021-12-29T11:52:17.959408",
     "status": "completed"
    },
    "tags": []
   },
   "outputs": [],
   "source": [
    "resample_cost = 'd'\n",
    "Electric_day = Electric.resample(resample_cost).agg({'Hour': np.mean, 'Minute': np.mean, 'Load': np.sum})\n",
    "Electric_day.reset_index(inplace=True)\n",
    "Electric_day.loc[Electric_day.Load < 20000, 'Load'] = np.nan\n",
    "Electric_day.Load.interpolate(inplace=True)\n",
    "\n",
    "Electric_day['Seconds'] = (Electric_day.Date - Electric_day.Date[0]).dt.total_seconds()\n",
    "Electric_day = Electric_day[['Date', 'Seconds', 'Load']]\n",
    "Electric_day['Day'] = Electric_day['Date'].dt.day_of_week\n",
    "Electric_day['Minutes'] = Electric_day['Date'].dt.minute\n",
    "Electric_day['Hour'] = Electric_day['Date'].dt.hour"
   ]
  },
  {
   "cell_type": "code",
   "execution_count": 8,
   "id": "76ee94d4",
   "metadata": {
    "execution": {
     "iopub.execute_input": "2021-12-29T11:52:18.111915Z",
     "iopub.status.busy": "2021-12-29T11:52:18.111127Z",
     "iopub.status.idle": "2021-12-29T11:52:18.114237Z",
     "shell.execute_reply": "2021-12-29T11:52:18.113725Z",
     "shell.execute_reply.started": "2021-12-02T18:27:27.715848Z"
    },
    "papermill": {
     "duration": 0.03523,
     "end_time": "2021-12-29T11:52:18.114375",
     "exception": false,
     "start_time": "2021-12-29T11:52:18.079145",
     "status": "completed"
    },
    "tags": []
   },
   "outputs": [],
   "source": [
    "Load_min, Load_max, Load_mean = Electric_day['Load'].min(), Electric_day['Load'].max(), Electric_day['Load'].mean() \n",
    "Electric_day['Load'] = (Electric_day['Load'] - Load_mean)/ (Load_max - Load_min) "
   ]
  },
  {
   "cell_type": "code",
   "execution_count": 9,
   "id": "2656b547",
   "metadata": {
    "execution": {
     "iopub.execute_input": "2021-12-29T11:52:18.171801Z",
     "iopub.status.busy": "2021-12-29T11:52:18.171067Z",
     "iopub.status.idle": "2021-12-29T11:52:18.385765Z",
     "shell.execute_reply": "2021-12-29T11:52:18.385324Z",
     "shell.execute_reply.started": "2021-12-02T18:27:27.723949Z"
    },
    "papermill": {
     "duration": 0.244763,
     "end_time": "2021-12-29T11:52:18.385878",
     "exception": false,
     "start_time": "2021-12-29T11:52:18.141115",
     "status": "completed"
    },
    "tags": []
   },
   "outputs": [
    {
     "data": {
      "text/plain": [
       "<AxesSubplot:>"
      ]
     },
     "execution_count": 9,
     "metadata": {},
     "output_type": "execute_result"
    },
    {
     "data": {
      "image/png": "[encoded data removed]",
      "text/plain": [
       "<Figure size 1152x648 with 1 Axes>"
      ]
     },
     "metadata": {
      "needs_background": "light"
     },
     "output_type": "display_data"
    }
   ],
   "source": [
    "Electric_day.Load.plot(figsize=(16,9))"
   ]
  },
  {
   "cell_type": "code",
   "execution_count": 10,
   "id": "b29fd96c",
   "metadata": {},
   "outputs": [],
   "source": [
    "def series_to_supervised(series, n_in=96, n_out=1, dropnan=True, batch_size=1):\n",
    "    dataset = tf.data.Dataset.from_tensor_slices(series.to_numpy())\n",
    "    dataset = dataset.window(n_in, shift=n_out, drop_remainder=dropnan)\n",
    "    dataset = dataset.flat_map(lambda window: window.batch(96))\n",
    "    dataset = dataset.map(lambda window: (window[:-1], window[-1:]))\n",
    "    dataset = dataset.batch(batch_size).prefetch(1)\n",
    "    \n",
    "    return dataset"
   ]
  },
  {
   "cell_type": "code",
   "execution_count": 11,
   "id": "4ee9e482",
   "metadata": {
    "execution": {
     "iopub.execute_input": "2021-12-29T11:52:18.552023Z",
     "iopub.status.busy": "2021-12-29T11:52:18.551184Z",
     "iopub.status.idle": "2021-12-29T11:52:18.586250Z",
     "shell.execute_reply": "2021-12-29T11:52:18.585810Z",
     "shell.execute_reply.started": "2021-12-02T18:27:28.063899Z"
    },
    "papermill": {
     "duration": 0.07057,
     "end_time": "2021-12-29T11:52:18.586371",
     "exception": false,
     "start_time": "2021-12-29T11:52:18.515801",
     "status": "completed"
    },
    "tags": []
   },
   "outputs": [],
   "source": [
    "val_time = int(len(Electric_day.Load) * 0.80)\n",
    "n_forecast = 10 \n",
    "test_time = -n_forecast\n",
    "\n",
    "# How much data from the past should we need for a forecast?\n",
    "window_len = 96 # nearly 13 weeks\n",
    "# How far ahead do we want to generate forecasts?\n",
    "forecast_len = 10 # 1 day\n",
    "\n",
    "\n",
    "batch_size = 1024\n",
    "\n",
    "training_data = Electric_day.iloc[:val_time]['Load']\n",
    "validation_data = Electric_day.iloc[val_time:test_time]['Load']\n",
    "test_data = Electric_day.iloc[test_time:]['Load']\n",
    "\n",
    "Train_dataset = series_to_supervised(training_data, \n",
    "                                        window_len, \n",
    "                                        forecast_len, batch_size=batch_size)\n",
    "\n",
    "Val_dataset = series_to_supervised(validation_data, \n",
    "                                        window_len, \n",
    "                                        forecast_len, batch_size=batch_size)"
   ]
  },
  {
   "cell_type": "code",
   "execution_count": 22,
   "id": "14e6c432",
   "metadata": {
    "execution": {
     "iopub.execute_input": "2021-12-29T11:52:18.720781Z",
     "iopub.status.busy": "2021-12-29T11:52:18.720260Z",
     "iopub.status.idle": "2021-12-29T11:52:19.966697Z",
     "shell.execute_reply": "2021-12-29T11:52:19.967307Z",
     "shell.execute_reply.started": "2021-12-02T18:27:28.123267Z"
    },
    "papermill": {
     "duration": 1.283384,
     "end_time": "2021-12-29T11:52:19.967480",
     "exception": false,
     "start_time": "2021-12-29T11:52:18.684096",
     "status": "completed"
    },
    "tags": []
   },
   "outputs": [],
   "source": [
    "model_many_to_one = tf.keras.models.Sequential([\n",
    "    tf.keras.layers.Lambda(lambda x: tf.expand_dims(x, axis=-1), input_shape=[None]),\n",
    "    tf.keras.layers.Conv1D(filters=64, kernel_size=5,\n",
    "                         strides=1, padding=\"causal\",\n",
    "                         activation=\"relu\", input_shape=(1, window_len)),  # None = Model can take sequences of any length\n",
    "    tf.keras.layers.LSTM(128, activation=\"tanh\", return_sequences=True),\n",
    "    tf.keras.layers.LSTM(64, activation=\"tanh\", return_sequences=False),\n",
    "    tf.keras.layers.Dense(30, activation=\"relu\"),\n",
    "    tf.keras.layers.Dense(10, activation=\"relu\"),\n",
    "    tf.keras.layers.Dense(forecast_len),\n",
    "    tf.keras.layers.Lambda(lambda x: x * 100)  # LSTM's tanh activation returns between -1 and 1. Scaling output to same range of values helps learning.\n",
    "])\n",
    "\n",
    "# Note: to turn this into a classification task, just add a sigmoid function after the last Dense layer and remove Lambda layer.\n",
    "\n",
    "optimizer = tf.keras.optimizers.SGD(learning_rate=1e-5, momentum=0.9)\n",
    "model_many_to_one.compile(loss=tf.keras.losses.Huber(), # Huber is less sensitive to outliers\n",
    "                          optimizer=optimizer,\n",
    "                          metrics=[\"mae\"])\n",
    "#tf.keras.utils.plot_model(model_many_to_one, show_shapes=True)"
   ]
  },
  {
   "cell_type": "markdown",
   "id": "01446028",
   "metadata": {
    "id": "QdoqDXFDHIjT",
    "papermill": {
     "duration": 0.032445,
     "end_time": "2021-12-29T11:52:20.033285",
     "exception": false,
     "start_time": "2021-12-29T11:52:20.000840",
     "status": "completed"
    },
    "tags": []
   },
   "source": [
    "# Model building/training (point predictions)"
   ]
  },
  {
   "cell_type": "code",
   "execution_count": 23,
   "id": "f5d610a2",
   "metadata": {
    "execution": {
     "iopub.execute_input": "2021-12-29T11:52:20.101791Z",
     "iopub.status.busy": "2021-12-29T11:52:20.101137Z",
     "iopub.status.idle": "2021-12-29T11:53:18.157564Z",
     "shell.execute_reply": "2021-12-29T11:53:18.157128Z",
     "shell.execute_reply.started": "2021-12-02T18:27:29.555512Z"
    },
    "papermill": {
     "duration": 58.093448,
     "end_time": "2021-12-29T11:53:18.157690",
     "exception": false,
     "start_time": "2021-12-29T11:52:20.064242",
     "status": "completed"
    },
    "tags": []
   },
   "outputs": [
    {
     "name": "stdout",
     "output_type": "stream",
     "text": [
      "Epoch 1/100\n",
      "1/1 [==============================] - 4s 4s/step - loss: 0.1562 - mae: 0.4377 - val_loss: 0.1860 - val_mae: 0.4738\n",
      "Epoch 2/100\n",
      "1/1 [==============================] - 0s 441ms/step - loss: 0.1487 - mae: 0.4237 - val_loss: 0.1695 - val_mae: 0.4408\n",
      "Epoch 3/100\n",
      "1/1 [==============================] - 0s 453ms/step - loss: 0.1357 - mae: 0.3989 - val_loss: 0.1494 - val_mae: 0.4000\n",
      "Epoch 4/100\n",
      "1/1 [==============================] - 0s 444ms/step - loss: 0.1196 - mae: 0.3675 - val_loss: 0.1284 - val_mae: 0.3560\n",
      "Epoch 5/100\n",
      "1/1 [==============================] - 0s 461ms/step - loss: 0.1030 - mae: 0.3345 - val_loss: 0.1087 - val_mae: 0.3157\n",
      "Epoch 6/100\n",
      "1/1 [==============================] - 0s 458ms/step - loss: 0.0875 - mae: 0.3036 - val_loss: 0.0919 - val_mae: 0.2811\n",
      "Epoch 7/100\n",
      "1/1 [==============================] - 0s 452ms/step - loss: 0.0745 - mae: 0.2768 - val_loss: 0.0788 - val_mae: 0.2541\n",
      "Epoch 8/100\n",
      "1/1 [==============================] - 0s 442ms/step - loss: 0.0643 - mae: 0.2561 - val_loss: 0.0691 - val_mae: 0.2391\n",
      "Epoch 9/100\n",
      "1/1 [==============================] - 0s 448ms/step - loss: 0.0568 - mae: 0.2423 - val_loss: 0.0623 - val_mae: 0.2345\n",
      "Epoch 10/100\n",
      "1/1 [==============================] - 0s 453ms/step - loss: 0.0517 - mae: 0.2342 - val_loss: 0.0579 - val_mae: 0.2334\n",
      "Epoch 11/100\n",
      "1/1 [==============================] - 0s 458ms/step - loss: 0.0484 - mae: 0.2301 - val_loss: 0.0547 - val_mae: 0.2331\n",
      "Epoch 12/100\n",
      "1/1 [==============================] - 0s 450ms/step - loss: 0.0463 - mae: 0.2280 - val_loss: 0.0525 - val_mae: 0.2336\n",
      "Epoch 13/100\n",
      "1/1 [==============================] - 0s 433ms/step - loss: 0.0448 - mae: 0.2269 - val_loss: 0.0508 - val_mae: 0.2339\n",
      "Epoch 14/100\n",
      "1/1 [==============================] - 0s 441ms/step - loss: 0.0437 - mae: 0.2261 - val_loss: 0.0496 - val_mae: 0.2345\n",
      "Epoch 15/100\n",
      "1/1 [==============================] - 0s 461ms/step - loss: 0.0428 - mae: 0.2254 - val_loss: 0.0486 - val_mae: 0.2351\n",
      "Epoch 16/100\n",
      "1/1 [==============================] - 1s 502ms/step - loss: 0.0420 - mae: 0.2247 - val_loss: 0.0477 - val_mae: 0.2347\n",
      "Epoch 17/100\n",
      "1/1 [==============================] - 0s 455ms/step - loss: 0.0412 - mae: 0.2235 - val_loss: 0.0468 - val_mae: 0.2337\n",
      "Epoch 18/100\n",
      "1/1 [==============================] - 0s 468ms/step - loss: 0.0403 - mae: 0.2216 - val_loss: 0.0458 - val_mae: 0.2320\n",
      "Epoch 19/100\n",
      "1/1 [==============================] - 0s 463ms/step - loss: 0.0393 - mae: 0.2191 - val_loss: 0.0446 - val_mae: 0.2297\n",
      "Epoch 20/100\n",
      "1/1 [==============================] - 0s 462ms/step - loss: 0.0382 - mae: 0.2160 - val_loss: 0.0435 - val_mae: 0.2270\n",
      "Epoch 21/100\n",
      "1/1 [==============================] - 0s 455ms/step - loss: 0.0369 - mae: 0.2124 - val_loss: 0.0422 - val_mae: 0.2236\n",
      "Epoch 22/100\n",
      "1/1 [==============================] - 0s 470ms/step - loss: 0.0355 - mae: 0.2082 - val_loss: 0.0409 - val_mae: 0.2198\n",
      "Epoch 23/100\n",
      "1/1 [==============================] - 0s 460ms/step - loss: 0.0340 - mae: 0.2038 - val_loss: 0.0395 - val_mae: 0.2160\n",
      "Epoch 24/100\n",
      "1/1 [==============================] - 0s 470ms/step - loss: 0.0325 - mae: 0.1992 - val_loss: 0.0382 - val_mae: 0.2122\n",
      "Epoch 25/100\n",
      "1/1 [==============================] - 0s 456ms/step - loss: 0.0311 - mae: 0.1947 - val_loss: 0.0369 - val_mae: 0.2087\n",
      "Epoch 26/100\n",
      "1/1 [==============================] - 0s 438ms/step - loss: 0.0298 - mae: 0.1903 - val_loss: 0.0357 - val_mae: 0.2054\n",
      "Epoch 27/100\n",
      "1/1 [==============================] - 0s 449ms/step - loss: 0.0286 - mae: 0.1863 - val_loss: 0.0347 - val_mae: 0.2024\n",
      "Epoch 28/100\n",
      "1/1 [==============================] - 0s 484ms/step - loss: 0.0276 - mae: 0.1827 - val_loss: 0.0337 - val_mae: 0.1997\n",
      "Epoch 29/100\n",
      "1/1 [==============================] - 0s 472ms/step - loss: 0.0267 - mae: 0.1796 - val_loss: 0.0328 - val_mae: 0.1973\n",
      "Epoch 30/100\n",
      "1/1 [==============================] - 0s 469ms/step - loss: 0.0260 - mae: 0.1769 - val_loss: 0.0320 - val_mae: 0.1953\n",
      "Epoch 31/100\n",
      "1/1 [==============================] - 1s 508ms/step - loss: 0.0254 - mae: 0.1748 - val_loss: 0.0314 - val_mae: 0.1935\n",
      "Epoch 32/100\n",
      "1/1 [==============================] - 0s 468ms/step - loss: 0.0249 - mae: 0.1731 - val_loss: 0.0307 - val_mae: 0.1918\n",
      "Epoch 33/100\n",
      "1/1 [==============================] - 0s 465ms/step - loss: 0.0245 - mae: 0.1717 - val_loss: 0.0302 - val_mae: 0.1901\n",
      "Epoch 34/100\n",
      "1/1 [==============================] - 0s 466ms/step - loss: 0.0241 - mae: 0.1704 - val_loss: 0.0296 - val_mae: 0.1882\n",
      "Epoch 35/100\n",
      "1/1 [==============================] - 0s 465ms/step - loss: 0.0238 - mae: 0.1693 - val_loss: 0.0290 - val_mae: 0.1862\n",
      "Epoch 36/100\n",
      "1/1 [==============================] - 0s 463ms/step - loss: 0.0235 - mae: 0.1683 - val_loss: 0.0284 - val_mae: 0.1841\n",
      "Epoch 37/100\n",
      "1/1 [==============================] - 0s 468ms/step - loss: 0.0231 - mae: 0.1671 - val_loss: 0.0278 - val_mae: 0.1820\n",
      "Epoch 38/100\n",
      "1/1 [==============================] - 0s 455ms/step - loss: 0.0228 - mae: 0.1659 - val_loss: 0.0272 - val_mae: 0.1798\n",
      "Epoch 39/100\n",
      "1/1 [==============================] - 0s 436ms/step - loss: 0.0224 - mae: 0.1646 - val_loss: 0.0266 - val_mae: 0.1776\n",
      "Epoch 40/100\n",
      "1/1 [==============================] - 0s 437ms/step - loss: 0.0221 - mae: 0.1632 - val_loss: 0.0260 - val_mae: 0.1753\n",
      "Epoch 41/100\n",
      "1/1 [==============================] - 0s 475ms/step - loss: 0.0218 - mae: 0.1619 - val_loss: 0.0255 - val_mae: 0.1732\n",
      "Epoch 42/100\n",
      "1/1 [==============================] - 0s 460ms/step - loss: 0.0215 - mae: 0.1606 - val_loss: 0.0250 - val_mae: 0.1710\n",
      "Epoch 43/100\n",
      "1/1 [==============================] - 0s 470ms/step - loss: 0.0212 - mae: 0.1594 - val_loss: 0.0245 - val_mae: 0.1690\n",
      "Epoch 44/100\n",
      "1/1 [==============================] - 0s 458ms/step - loss: 0.0210 - mae: 0.1584 - val_loss: 0.0241 - val_mae: 0.1671\n",
      "Epoch 45/100\n",
      "1/1 [==============================] - 0s 464ms/step - loss: 0.0208 - mae: 0.1575 - val_loss: 0.0237 - val_mae: 0.1654\n",
      "Epoch 46/100\n",
      "1/1 [==============================] - 0s 471ms/step - loss: 0.0206 - mae: 0.1567 - val_loss: 0.0234 - val_mae: 0.1640\n",
      "Epoch 47/100\n",
      "1/1 [==============================] - 0s 464ms/step - loss: 0.0205 - mae: 0.1560 - val_loss: 0.0231 - val_mae: 0.1627\n",
      "Epoch 48/100\n",
      "1/1 [==============================] - 0s 464ms/step - loss: 0.0204 - mae: 0.1554 - val_loss: 0.0229 - val_mae: 0.1616\n",
      "Epoch 49/100\n",
      "1/1 [==============================] - 0s 471ms/step - loss: 0.0203 - mae: 0.1549 - val_loss: 0.0227 - val_mae: 0.1606\n",
      "Epoch 50/100\n",
      "1/1 [==============================] - 0s 462ms/step - loss: 0.0202 - mae: 0.1545 - val_loss: 0.0225 - val_mae: 0.1599\n",
      "Epoch 51/100\n",
      "1/1 [==============================] - 0s 456ms/step - loss: 0.0201 - mae: 0.1541 - val_loss: 0.0223 - val_mae: 0.1592\n",
      "Epoch 52/100\n",
      "1/1 [==============================] - 0s 429ms/step - loss: 0.0200 - mae: 0.1537 - val_loss: 0.0222 - val_mae: 0.1587\n",
      "Epoch 53/100\n",
      "1/1 [==============================] - 0s 449ms/step - loss: 0.0199 - mae: 0.1534 - val_loss: 0.0221 - val_mae: 0.1582\n",
      "Epoch 54/100\n",
      "1/1 [==============================] - 0s 472ms/step - loss: 0.0198 - mae: 0.1531 - val_loss: 0.0219 - val_mae: 0.1579\n",
      "Epoch 55/100\n",
      "1/1 [==============================] - 0s 472ms/step - loss: 0.0197 - mae: 0.1527 - val_loss: 0.0218 - val_mae: 0.1576\n",
      "Epoch 56/100\n",
      "1/1 [==============================] - 0s 477ms/step - loss: 0.0196 - mae: 0.1523 - val_loss: 0.0217 - val_mae: 0.1574\n",
      "Epoch 57/100\n",
      "1/1 [==============================] - 0s 470ms/step - loss: 0.0195 - mae: 0.1519 - val_loss: 0.0216 - val_mae: 0.1572\n",
      "Epoch 58/100\n",
      "1/1 [==============================] - 0s 462ms/step - loss: 0.0194 - mae: 0.1515 - val_loss: 0.0215 - val_mae: 0.1571\n",
      "Epoch 59/100\n",
      "1/1 [==============================] - 0s 463ms/step - loss: 0.0193 - mae: 0.1512 - val_loss: 0.0215 - val_mae: 0.1570\n",
      "Epoch 60/100\n",
      "1/1 [==============================] - 0s 467ms/step - loss: 0.0192 - mae: 0.1508 - val_loss: 0.0214 - val_mae: 0.1570\n",
      "Epoch 61/100\n",
      "1/1 [==============================] - 0s 459ms/step - loss: 0.0191 - mae: 0.1504 - val_loss: 0.0213 - val_mae: 0.1571\n",
      "Epoch 62/100\n",
      "1/1 [==============================] - 0s 466ms/step - loss: 0.0190 - mae: 0.1500 - val_loss: 0.0213 - val_mae: 0.1573\n",
      "Epoch 63/100\n",
      "1/1 [==============================] - 0s 472ms/step - loss: 0.0189 - mae: 0.1497 - val_loss: 0.0213 - val_mae: 0.1574\n",
      "Epoch 64/100\n",
      "1/1 [==============================] - 0s 459ms/step - loss: 0.0188 - mae: 0.1494 - val_loss: 0.0212 - val_mae: 0.1576\n",
      "Epoch 65/100\n",
      "1/1 [==============================] - 0s 428ms/step - loss: 0.0187 - mae: 0.1491 - val_loss: 0.0212 - val_mae: 0.1577\n",
      "Epoch 66/100\n",
      "1/1 [==============================] - 0s 450ms/step - loss: 0.0186 - mae: 0.1488 - val_loss: 0.0211 - val_mae: 0.1578\n",
      "Epoch 67/100\n",
      "1/1 [==============================] - 0s 457ms/step - loss: 0.0185 - mae: 0.1485 - val_loss: 0.0211 - val_mae: 0.1578\n",
      "Epoch 68/100\n",
      "1/1 [==============================] - 0s 466ms/step - loss: 0.0184 - mae: 0.1483 - val_loss: 0.0210 - val_mae: 0.1579\n",
      "Epoch 69/100\n",
      "1/1 [==============================] - 0s 459ms/step - loss: 0.0183 - mae: 0.1480 - val_loss: 0.0210 - val_mae: 0.1580\n",
      "Epoch 70/100\n",
      "1/1 [==============================] - 0s 476ms/step - loss: 0.0183 - mae: 0.1478 - val_loss: 0.0210 - val_mae: 0.1580\n",
      "Epoch 71/100\n",
      "1/1 [==============================] - 0s 465ms/step - loss: 0.0182 - mae: 0.1475 - val_loss: 0.0209 - val_mae: 0.1581\n",
      "Epoch 72/100\n",
      "1/1 [==============================] - 0s 463ms/step - loss: 0.0181 - mae: 0.1472 - val_loss: 0.0209 - val_mae: 0.1581\n",
      "Epoch 73/100\n",
      "1/1 [==============================] - 0s 460ms/step - loss: 0.0180 - mae: 0.1469 - val_loss: 0.0208 - val_mae: 0.1581\n",
      "Epoch 74/100\n",
      "1/1 [==============================] - 0s 471ms/step - loss: 0.0179 - mae: 0.1466 - val_loss: 0.0208 - val_mae: 0.1580\n",
      "Epoch 75/100\n",
      "1/1 [==============================] - 0s 469ms/step - loss: 0.0179 - mae: 0.1463 - val_loss: 0.0207 - val_mae: 0.1579\n",
      "Epoch 76/100\n",
      "1/1 [==============================] - 0s 465ms/step - loss: 0.0178 - mae: 0.1460 - val_loss: 0.0207 - val_mae: 0.1578\n",
      "Epoch 77/100\n",
      "1/1 [==============================] - 0s 470ms/step - loss: 0.0177 - mae: 0.1457 - val_loss: 0.0206 - val_mae: 0.1576\n",
      "Epoch 78/100\n",
      "1/1 [==============================] - 0s 441ms/step - loss: 0.0176 - mae: 0.1454 - val_loss: 0.0205 - val_mae: 0.1574\n",
      "Epoch 79/100\n",
      "1/1 [==============================] - 0s 460ms/step - loss: 0.0175 - mae: 0.1451 - val_loss: 0.0205 - val_mae: 0.1571\n",
      "Epoch 80/100\n",
      "1/1 [==============================] - 0s 472ms/step - loss: 0.0175 - mae: 0.1448 - val_loss: 0.0204 - val_mae: 0.1569\n",
      "Epoch 81/100\n",
      "1/1 [==============================] - 0s 472ms/step - loss: 0.0174 - mae: 0.1445 - val_loss: 0.0203 - val_mae: 0.1566\n",
      "Epoch 82/100\n",
      "1/1 [==============================] - 0s 464ms/step - loss: 0.0173 - mae: 0.1442 - val_loss: 0.0202 - val_mae: 0.1563\n",
      "Epoch 83/100\n",
      "1/1 [==============================] - 0s 488ms/step - loss: 0.0173 - mae: 0.1439 - val_loss: 0.0202 - val_mae: 0.1560\n",
      "Epoch 84/100\n",
      "1/1 [==============================] - 0s 458ms/step - loss: 0.0172 - mae: 0.1436 - val_loss: 0.0201 - val_mae: 0.1557\n",
      "Epoch 85/100\n",
      "1/1 [==============================] - 0s 463ms/step - loss: 0.0171 - mae: 0.1434 - val_loss: 0.0200 - val_mae: 0.1555\n",
      "Epoch 86/100\n",
      "1/1 [==============================] - 0s 457ms/step - loss: 0.0171 - mae: 0.1431 - val_loss: 0.0199 - val_mae: 0.1552\n",
      "Epoch 87/100\n",
      "1/1 [==============================] - 0s 463ms/step - loss: 0.0170 - mae: 0.1429 - val_loss: 0.0199 - val_mae: 0.1549\n",
      "Epoch 88/100\n",
      "1/1 [==============================] - 0s 446ms/step - loss: 0.0170 - mae: 0.1427 - val_loss: 0.0198 - val_mae: 0.1547\n",
      "Epoch 89/100\n",
      "1/1 [==============================] - 0s 461ms/step - loss: 0.0169 - mae: 0.1424 - val_loss: 0.0197 - val_mae: 0.1544\n",
      "Epoch 90/100\n",
      "1/1 [==============================] - 0s 442ms/step - loss: 0.0168 - mae: 0.1422 - val_loss: 0.0197 - val_mae: 0.1542\n",
      "Epoch 91/100\n",
      "1/1 [==============================] - 0s 440ms/step - loss: 0.0168 - mae: 0.1420 - val_loss: 0.0196 - val_mae: 0.1540\n",
      "Epoch 92/100\n",
      "1/1 [==============================] - 0s 442ms/step - loss: 0.0167 - mae: 0.1418 - val_loss: 0.0196 - val_mae: 0.1538\n",
      "Epoch 93/100\n",
      "1/1 [==============================] - 0s 463ms/step - loss: 0.0167 - mae: 0.1416 - val_loss: 0.0195 - val_mae: 0.1535\n",
      "Epoch 94/100\n",
      "1/1 [==============================] - 0s 466ms/step - loss: 0.0166 - mae: 0.1414 - val_loss: 0.0195 - val_mae: 0.1533\n",
      "Epoch 95/100\n",
      "1/1 [==============================] - 0s 481ms/step - loss: 0.0166 - mae: 0.1412 - val_loss: 0.0194 - val_mae: 0.1532\n",
      "Epoch 96/100\n",
      "1/1 [==============================] - 0s 479ms/step - loss: 0.0165 - mae: 0.1410 - val_loss: 0.0193 - val_mae: 0.1530\n",
      "Epoch 97/100\n",
      "1/1 [==============================] - 0s 470ms/step - loss: 0.0165 - mae: 0.1408 - val_loss: 0.0193 - val_mae: 0.1528\n",
      "Epoch 98/100\n",
      "1/1 [==============================] - 0s 466ms/step - loss: 0.0164 - mae: 0.1406 - val_loss: 0.0192 - val_mae: 0.1527\n",
      "Epoch 99/100\n",
      "1/1 [==============================] - 0s 466ms/step - loss: 0.0164 - mae: 0.1405 - val_loss: 0.0192 - val_mae: 0.1525\n",
      "Epoch 100/100\n",
      "1/1 [==============================] - 0s 473ms/step - loss: 0.0163 - mae: 0.1403 - val_loss: 0.0192 - val_mae: 0.1524\n"
     ]
    }
   ],
   "source": [
    "model_many_to_one.fit(Train_dataset, epochs=100, validation_data=Val_dataset);"
   ]
  },
  {
   "cell_type": "code",
   "execution_count": 30,
   "id": "72d0015b",
   "metadata": {},
   "outputs": [],
   "source": [
    "def get_preds(model, val_data):\n",
    "    series = tf.expand_dims(val_data, axis=1)\n",
    "    tf_val_data = tf.data.Dataset.from_tensor_slices(series)\n",
    "    #tf_val_data = tf_val_data.window(96, shift=forecast_len, drop_remainder=False)\n",
    "    #tf_val_data = tf_val_data.flat_map(lambda x: x.batch(96))\n",
    "    #tf_val_data = tf_val_data.batch(1).prefetch(1)\n",
    "    forecast = model.predict(tf_val_data)\n",
    "    # forecast = forecast * 10\n",
    "    return forecast.reshape(-1)"
   ]
  },
  {
   "cell_type": "code",
   "execution_count": 37,
   "id": "eeb4c505",
   "metadata": {},
   "outputs": [
    {
     "data": {
      "text/plain": [
       "array([ 0.2382211 ,  0.20167351, -0.07121585,  0.295308  ,  0.73093   ,\n",
       "       -0.46964818, -0.73888505,  0.12436826,  0.19799499,  0.06497501],\n",
       "      dtype=float32)"
      ]
     },
     "execution_count": 37,
     "metadata": {},
     "output_type": "execute_result"
    }
   ],
   "source": [
    "np.asarray([res, res1]).mean(axis=0)"
   ]
  },
  {
   "cell_type": "code",
   "execution_count": 31,
   "id": "e818bcc6",
   "metadata": {
    "execution": {
     "iopub.execute_input": "2021-12-29T11:53:20.264002Z",
     "iopub.status.busy": "2021-12-29T11:53:20.263095Z",
     "iopub.status.idle": "2021-12-29T11:53:20.442677Z",
     "shell.execute_reply": "2021-12-29T11:53:20.442232Z",
     "shell.execute_reply.started": "2021-12-02T18:28:28.643535Z"
    },
    "papermill": {
     "duration": 0.469606,
     "end_time": "2021-12-29T11:53:20.442799",
     "exception": false,
     "start_time": "2021-12-29T11:53:19.973193",
     "status": "completed"
    },
    "tags": []
   },
   "outputs": [
    {
     "data": {
      "text/plain": [
       "<matplotlib.legend.Legend at 0x287e9151760>"
      ]
     },
     "execution_count": 31,
     "metadata": {},
     "output_type": "execute_result"
    },
    {
     "data": {
      "image/png": "[encoded data removed]",
      "text/plain": [
       "<Figure size 432x288 with 1 Axes>"
      ]
     },
     "metadata": {
      "needs_background": "light"
     },
     "output_type": "display_data"
    }
   ],
   "source": [
    "res1 = get_preds(model_many_to_one, validation_data.values[-96:].reshape(1,-1))\n",
    "\n",
    "plt.plot(validation_data.values[-96:], label='True validation')\n",
    "plt.plot(range(window_len, window_len + n_forecast), res, label='predicted')\n",
    "plt.plot(range(window_len, window_len + n_forecast), test_data.values, label='True test')\n",
    "plt.legend()"
   ]
  },
  {
   "cell_type": "markdown",
   "id": "cf810dd5",
   "metadata": {
    "id": "rWIYrqeAHUH-",
    "papermill": {
     "duration": 0.260784,
     "end_time": "2021-12-29T11:53:20.962226",
     "exception": false,
     "start_time": "2021-12-29T11:53:20.701442",
     "status": "completed"
    },
    "tags": []
   },
   "source": [
    "# Forecasting with distributions"
   ]
  },
  {
   "cell_type": "code",
   "execution_count": 40,
   "id": "e8acfa1d",
   "metadata": {
    "execution": {
     "iopub.execute_input": "2021-12-29T11:53:21.512402Z",
     "iopub.status.busy": "2021-12-29T11:53:21.511341Z",
     "iopub.status.idle": "2021-12-29T11:53:21.514383Z",
     "shell.execute_reply": "2021-12-29T11:53:21.513741Z",
     "shell.execute_reply.started": "2021-12-02T18:28:28.888304Z"
    },
    "papermill": {
     "duration": 0.288901,
     "end_time": "2021-12-29T11:53:21.514508",
     "exception": false,
     "start_time": "2021-12-29T11:53:21.225607",
     "status": "completed"
    },
    "tags": []
   },
   "outputs": [],
   "source": [
    "from tqdm import tqdm\n",
    "\n",
    "def fit_model(X_train, X_validation):\n",
    "    model_many_to_one = tf.keras.models.Sequential([\n",
    "        tf.keras.layers.Lambda(lambda x: tf.expand_dims(x, axis=-1), input_shape=[None]),\n",
    "        tf.keras.layers.Conv1D(filters=64, kernel_size=5,\n",
    "                               strides=1, padding=\"causal\",\n",
    "                               activation=\"relu\", input_shape=(1, window_len)),  # None = Model can take sequences of any length\n",
    "        tf.keras.layers.LSTM(128, activation=\"tanh\", return_sequences=True),\n",
    "        tf.keras.layers.LSTM(64, activation=\"tanh\", return_sequences=False),\n",
    "        tf.keras.layers.Dense(30, activation=\"relu\"),\n",
    "        tf.keras.layers.Dense(10, activation=\"relu\"),\n",
    "        tf.keras.layers.Dense(forecast_len),\n",
    "        tf.keras.layers.Lambda(lambda x: x * 100)  # LSTM's tanh activation returns between -1 and 1. Scaling output to same range of values helps learning.\n",
    "    ])\n",
    "\n",
    "    # Note: to turn this into a classification task, just add a sigmoid function after the last Dense layer and remove Lambda layer.\n",
    "    optimizer = tf.keras.optimizers.SGD(learning_rate=1e-5, momentum=0.9)\n",
    "    model_many_to_one.compile(loss=tf.keras.losses.Huber(), # Huber is less sensitive to outliers\n",
    "                              optimizer=optimizer,\n",
    "                              metrics=[\"mae\"])\n",
    "    model_many_to_one.fit(X_train, epochs=100, validation_data=X_validation, verbose=0)\n",
    "    return model_many_to_one\n",
    "\n",
    "    \n",
    "def fit_ensemble(n_sim, X_train, X_validation):\n",
    "    ensemble = []\n",
    "    for i in tqdm(range(n_sim)):\n",
    "        model = fit_model(X_train, X_validation)\n",
    "        \n",
    "        #store the models\n",
    "        ensemble.append(model)\n",
    "    return ensemble\n",
    "\n",
    "\n",
    "def ensemble_predictions(ensemble, X_last, forecast_time, window_len):\n",
    "    pred = []\n",
    "    for i, model in enumerate(ensemble):\n",
    "        pred.append(get_preds(model, X_last))\n",
    "    \n",
    "    pred = np.asarray(pred)\n",
    "    y_hat = pred.mean(axis=0)\n",
    "    interval = 1.96 * pred.std(axis=0)\n",
    "    lower, upper = y_hat - interval, y_hat + interval\n",
    "    return lower, y_hat, upper"
   ]
  },
  {
   "cell_type": "code",
   "execution_count": 41,
   "id": "28c97aa9",
   "metadata": {
    "execution": {
     "iopub.execute_input": "2021-12-29T11:53:22.051378Z",
     "iopub.status.busy": "2021-12-29T11:53:22.050532Z",
     "iopub.status.idle": "2021-12-29T13:16:42.997089Z",
     "shell.execute_reply": "2021-12-29T13:16:42.996584Z",
     "shell.execute_reply.started": "2021-12-02T18:28:28.907114Z"
    },
    "papermill": {
     "duration": 5001.212925,
     "end_time": "2021-12-29T13:16:42.997235",
     "exception": false,
     "start_time": "2021-12-29T11:53:21.784310",
     "status": "completed"
    },
    "tags": []
   },
   "outputs": [
    {
     "name": "stderr",
     "output_type": "stream",
     "text": [
      "  2%|▏         | 2/100 [02:11<1:47:09, 65.61s/it]\n"
     ]
    },
    {
     "ename": "KeyboardInterrupt",
     "evalue": "",
     "output_type": "error",
     "traceback": [
      "\u001b[1;31m---------------------------------------------------------------------------\u001b[0m",
      "\u001b[1;31mKeyboardInterrupt\u001b[0m                         Traceback (most recent call last)",
      "\u001b[1;32m~\\AppData\\Local\\Temp/ipykernel_10296/2287576079.py\u001b[0m in \u001b[0;36m<module>\u001b[1;34m\u001b[0m\n\u001b[1;32m----> 1\u001b[1;33m \u001b[0mensemble\u001b[0m \u001b[1;33m=\u001b[0m \u001b[0mfit_ensemble\u001b[0m\u001b[1;33m(\u001b[0m\u001b[1;36m100\u001b[0m\u001b[1;33m,\u001b[0m \u001b[0mTrain_dataset\u001b[0m\u001b[1;33m,\u001b[0m \u001b[0mVal_dataset\u001b[0m\u001b[1;33m)\u001b[0m\u001b[1;33m\u001b[0m\u001b[1;33m\u001b[0m\u001b[0m\n\u001b[0m\u001b[0;32m      2\u001b[0m \u001b[0mX_test\u001b[0m \u001b[1;33m=\u001b[0m \u001b[0mvalidation_data\u001b[0m\u001b[1;33m.\u001b[0m\u001b[0mvalues\u001b[0m\u001b[1;33m[\u001b[0m\u001b[1;33m-\u001b[0m\u001b[0mwindow_len\u001b[0m\u001b[1;33m:\u001b[0m\u001b[1;33m]\u001b[0m\u001b[1;33m\u001b[0m\u001b[1;33m\u001b[0m\u001b[0m\n\u001b[0;32m      3\u001b[0m \u001b[0mlower\u001b[0m\u001b[1;33m,\u001b[0m \u001b[0mmean\u001b[0m\u001b[1;33m,\u001b[0m \u001b[0mupper\u001b[0m \u001b[1;33m=\u001b[0m \u001b[0mensemble_predictions\u001b[0m\u001b[1;33m(\u001b[0m\u001b[0mensemble\u001b[0m\u001b[1;33m,\u001b[0m \u001b[0mX_test\u001b[0m\u001b[1;33m,\u001b[0m \u001b[0mn_forecast\u001b[0m\u001b[1;33m,\u001b[0m \u001b[0mwindow_len\u001b[0m\u001b[1;33m)\u001b[0m\u001b[1;33m\u001b[0m\u001b[1;33m\u001b[0m\u001b[0m\n",
      "\u001b[1;32m~\\AppData\\Local\\Temp/ipykernel_10296/818286111.py\u001b[0m in \u001b[0;36mfit_ensemble\u001b[1;34m(n_sim, X_train, X_validation)\u001b[0m\n\u001b[0;32m     27\u001b[0m     \u001b[0mensemble\u001b[0m \u001b[1;33m=\u001b[0m \u001b[1;33m[\u001b[0m\u001b[1;33m]\u001b[0m\u001b[1;33m\u001b[0m\u001b[1;33m\u001b[0m\u001b[0m\n\u001b[0;32m     28\u001b[0m     \u001b[1;32mfor\u001b[0m \u001b[0mi\u001b[0m \u001b[1;32min\u001b[0m \u001b[0mtqdm\u001b[0m\u001b[1;33m(\u001b[0m\u001b[0mrange\u001b[0m\u001b[1;33m(\u001b[0m\u001b[0mn_sim\u001b[0m\u001b[1;33m)\u001b[0m\u001b[1;33m)\u001b[0m\u001b[1;33m:\u001b[0m\u001b[1;33m\u001b[0m\u001b[1;33m\u001b[0m\u001b[0m\n\u001b[1;32m---> 29\u001b[1;33m         \u001b[0mmodel\u001b[0m \u001b[1;33m=\u001b[0m \u001b[0mfit_model\u001b[0m\u001b[1;33m(\u001b[0m\u001b[0mX_train\u001b[0m\u001b[1;33m,\u001b[0m \u001b[0mX_validation\u001b[0m\u001b[1;33m)\u001b[0m\u001b[1;33m\u001b[0m\u001b[1;33m\u001b[0m\u001b[0m\n\u001b[0m\u001b[0;32m     30\u001b[0m \u001b[1;33m\u001b[0m\u001b[0m\n\u001b[0;32m     31\u001b[0m         \u001b[1;31m#store the models\u001b[0m\u001b[1;33m\u001b[0m\u001b[1;33m\u001b[0m\u001b[1;33m\u001b[0m\u001b[0m\n",
      "\u001b[1;32m~\\AppData\\Local\\Temp/ipykernel_10296/818286111.py\u001b[0m in \u001b[0;36mfit_model\u001b[1;34m(X_train, X_validation)\u001b[0m\n\u001b[0;32m     20\u001b[0m                               \u001b[0moptimizer\u001b[0m\u001b[1;33m=\u001b[0m\u001b[0moptimizer\u001b[0m\u001b[1;33m,\u001b[0m\u001b[1;33m\u001b[0m\u001b[1;33m\u001b[0m\u001b[0m\n\u001b[0;32m     21\u001b[0m                               metrics=[\"mae\"])\n\u001b[1;32m---> 22\u001b[1;33m     \u001b[0mmodel_many_to_one\u001b[0m\u001b[1;33m.\u001b[0m\u001b[0mfit\u001b[0m\u001b[1;33m(\u001b[0m\u001b[0mX_train\u001b[0m\u001b[1;33m,\u001b[0m \u001b[0mepochs\u001b[0m\u001b[1;33m=\u001b[0m\u001b[1;36m100\u001b[0m\u001b[1;33m,\u001b[0m \u001b[0mvalidation_data\u001b[0m\u001b[1;33m=\u001b[0m\u001b[0mX_validation\u001b[0m\u001b[1;33m,\u001b[0m \u001b[0mverbose\u001b[0m\u001b[1;33m=\u001b[0m\u001b[1;36m0\u001b[0m\u001b[1;33m)\u001b[0m\u001b[1;33m\u001b[0m\u001b[1;33m\u001b[0m\u001b[0m\n\u001b[0m\u001b[0;32m     23\u001b[0m     \u001b[1;32mreturn\u001b[0m \u001b[0mmodel_many_to_one\u001b[0m\u001b[1;33m\u001b[0m\u001b[1;33m\u001b[0m\u001b[0m\n\u001b[0;32m     24\u001b[0m \u001b[1;33m\u001b[0m\u001b[0m\n",
      "\u001b[1;32m~\\AppData\\Local\\Programs\\Python\\Python39\\lib\\site-packages\\keras\\utils\\traceback_utils.py\u001b[0m in \u001b[0;36merror_handler\u001b[1;34m(*args, **kwargs)\u001b[0m\n\u001b[0;32m     62\u001b[0m     \u001b[0mfiltered_tb\u001b[0m \u001b[1;33m=\u001b[0m \u001b[1;32mNone\u001b[0m\u001b[1;33m\u001b[0m\u001b[1;33m\u001b[0m\u001b[0m\n\u001b[0;32m     63\u001b[0m     \u001b[1;32mtry\u001b[0m\u001b[1;33m:\u001b[0m\u001b[1;33m\u001b[0m\u001b[1;33m\u001b[0m\u001b[0m\n\u001b[1;32m---> 64\u001b[1;33m       \u001b[1;32mreturn\u001b[0m \u001b[0mfn\u001b[0m\u001b[1;33m(\u001b[0m\u001b[1;33m*\u001b[0m\u001b[0margs\u001b[0m\u001b[1;33m,\u001b[0m \u001b[1;33m**\u001b[0m\u001b[0mkwargs\u001b[0m\u001b[1;33m)\u001b[0m\u001b[1;33m\u001b[0m\u001b[1;33m\u001b[0m\u001b[0m\n\u001b[0m\u001b[0;32m     65\u001b[0m     \u001b[1;32mexcept\u001b[0m \u001b[0mException\u001b[0m \u001b[1;32mas\u001b[0m \u001b[0me\u001b[0m\u001b[1;33m:\u001b[0m  \u001b[1;31m# pylint: disable=broad-except\u001b[0m\u001b[1;33m\u001b[0m\u001b[1;33m\u001b[0m\u001b[0m\n\u001b[0;32m     66\u001b[0m       \u001b[0mfiltered_tb\u001b[0m \u001b[1;33m=\u001b[0m \u001b[0m_process_traceback_frames\u001b[0m\u001b[1;33m(\u001b[0m\u001b[0me\u001b[0m\u001b[1;33m.\u001b[0m\u001b[0m__traceback__\u001b[0m\u001b[1;33m)\u001b[0m\u001b[1;33m\u001b[0m\u001b[1;33m\u001b[0m\u001b[0m\n",
      "\u001b[1;32m~\\AppData\\Local\\Programs\\Python\\Python39\\lib\\site-packages\\keras\\engine\\training.py\u001b[0m in \u001b[0;36mfit\u001b[1;34m(self, x, y, batch_size, epochs, verbose, callbacks, validation_split, validation_data, shuffle, class_weight, sample_weight, initial_epoch, steps_per_epoch, validation_steps, validation_batch_size, validation_freq, max_queue_size, workers, use_multiprocessing)\u001b[0m\n\u001b[0;32m   1382\u001b[0m                 _r=1):\n\u001b[0;32m   1383\u001b[0m               \u001b[0mcallbacks\u001b[0m\u001b[1;33m.\u001b[0m\u001b[0mon_train_batch_begin\u001b[0m\u001b[1;33m(\u001b[0m\u001b[0mstep\u001b[0m\u001b[1;33m)\u001b[0m\u001b[1;33m\u001b[0m\u001b[1;33m\u001b[0m\u001b[0m\n\u001b[1;32m-> 1384\u001b[1;33m               \u001b[0mtmp_logs\u001b[0m \u001b[1;33m=\u001b[0m \u001b[0mself\u001b[0m\u001b[1;33m.\u001b[0m\u001b[0mtrain_function\u001b[0m\u001b[1;33m(\u001b[0m\u001b[0miterator\u001b[0m\u001b[1;33m)\u001b[0m\u001b[1;33m\u001b[0m\u001b[1;33m\u001b[0m\u001b[0m\n\u001b[0m\u001b[0;32m   1385\u001b[0m               \u001b[1;32mif\u001b[0m \u001b[0mdata_handler\u001b[0m\u001b[1;33m.\u001b[0m\u001b[0mshould_sync\u001b[0m\u001b[1;33m:\u001b[0m\u001b[1;33m\u001b[0m\u001b[1;33m\u001b[0m\u001b[0m\n\u001b[0;32m   1386\u001b[0m                 \u001b[0mcontext\u001b[0m\u001b[1;33m.\u001b[0m\u001b[0masync_wait\u001b[0m\u001b[1;33m(\u001b[0m\u001b[1;33m)\u001b[0m\u001b[1;33m\u001b[0m\u001b[1;33m\u001b[0m\u001b[0m\n",
      "\u001b[1;32m~\\AppData\\Local\\Programs\\Python\\Python39\\lib\\site-packages\\tensorflow\\python\\util\\traceback_utils.py\u001b[0m in \u001b[0;36merror_handler\u001b[1;34m(*args, **kwargs)\u001b[0m\n\u001b[0;32m    148\u001b[0m     \u001b[0mfiltered_tb\u001b[0m \u001b[1;33m=\u001b[0m \u001b[1;32mNone\u001b[0m\u001b[1;33m\u001b[0m\u001b[1;33m\u001b[0m\u001b[0m\n\u001b[0;32m    149\u001b[0m     \u001b[1;32mtry\u001b[0m\u001b[1;33m:\u001b[0m\u001b[1;33m\u001b[0m\u001b[1;33m\u001b[0m\u001b[0m\n\u001b[1;32m--> 150\u001b[1;33m       \u001b[1;32mreturn\u001b[0m \u001b[0mfn\u001b[0m\u001b[1;33m(\u001b[0m\u001b[1;33m*\u001b[0m\u001b[0margs\u001b[0m\u001b[1;33m,\u001b[0m \u001b[1;33m**\u001b[0m\u001b[0mkwargs\u001b[0m\u001b[1;33m)\u001b[0m\u001b[1;33m\u001b[0m\u001b[1;33m\u001b[0m\u001b[0m\n\u001b[0m\u001b[0;32m    151\u001b[0m     \u001b[1;32mexcept\u001b[0m \u001b[0mException\u001b[0m \u001b[1;32mas\u001b[0m \u001b[0me\u001b[0m\u001b[1;33m:\u001b[0m\u001b[1;33m\u001b[0m\u001b[1;33m\u001b[0m\u001b[0m\n\u001b[0;32m    152\u001b[0m       \u001b[0mfiltered_tb\u001b[0m \u001b[1;33m=\u001b[0m \u001b[0m_process_traceback_frames\u001b[0m\u001b[1;33m(\u001b[0m\u001b[0me\u001b[0m\u001b[1;33m.\u001b[0m\u001b[0m__traceback__\u001b[0m\u001b[1;33m)\u001b[0m\u001b[1;33m\u001b[0m\u001b[1;33m\u001b[0m\u001b[0m\n",
      "\u001b[1;32m~\\AppData\\Local\\Programs\\Python\\Python39\\lib\\site-packages\\tensorflow\\python\\eager\\def_function.py\u001b[0m in \u001b[0;36m__call__\u001b[1;34m(self, *args, **kwds)\u001b[0m\n\u001b[0;32m    913\u001b[0m \u001b[1;33m\u001b[0m\u001b[0m\n\u001b[0;32m    914\u001b[0m       \u001b[1;32mwith\u001b[0m \u001b[0mOptionalXlaContext\u001b[0m\u001b[1;33m(\u001b[0m\u001b[0mself\u001b[0m\u001b[1;33m.\u001b[0m\u001b[0m_jit_compile\u001b[0m\u001b[1;33m)\u001b[0m\u001b[1;33m:\u001b[0m\u001b[1;33m\u001b[0m\u001b[1;33m\u001b[0m\u001b[0m\n\u001b[1;32m--> 915\u001b[1;33m         \u001b[0mresult\u001b[0m \u001b[1;33m=\u001b[0m \u001b[0mself\u001b[0m\u001b[1;33m.\u001b[0m\u001b[0m_call\u001b[0m\u001b[1;33m(\u001b[0m\u001b[1;33m*\u001b[0m\u001b[0margs\u001b[0m\u001b[1;33m,\u001b[0m \u001b[1;33m**\u001b[0m\u001b[0mkwds\u001b[0m\u001b[1;33m)\u001b[0m\u001b[1;33m\u001b[0m\u001b[1;33m\u001b[0m\u001b[0m\n\u001b[0m\u001b[0;32m    916\u001b[0m \u001b[1;33m\u001b[0m\u001b[0m\n\u001b[0;32m    917\u001b[0m       \u001b[0mnew_tracing_count\u001b[0m \u001b[1;33m=\u001b[0m \u001b[0mself\u001b[0m\u001b[1;33m.\u001b[0m\u001b[0mexperimental_get_tracing_count\u001b[0m\u001b[1;33m(\u001b[0m\u001b[1;33m)\u001b[0m\u001b[1;33m\u001b[0m\u001b[1;33m\u001b[0m\u001b[0m\n",
      "\u001b[1;32m~\\AppData\\Local\\Programs\\Python\\Python39\\lib\\site-packages\\tensorflow\\python\\eager\\def_function.py\u001b[0m in \u001b[0;36m_call\u001b[1;34m(self, *args, **kwds)\u001b[0m\n\u001b[0;32m    945\u001b[0m       \u001b[1;31m# In this case we have created variables on the first call, so we run the\u001b[0m\u001b[1;33m\u001b[0m\u001b[1;33m\u001b[0m\u001b[1;33m\u001b[0m\u001b[0m\n\u001b[0;32m    946\u001b[0m       \u001b[1;31m# defunned version which is guaranteed to never create variables.\u001b[0m\u001b[1;33m\u001b[0m\u001b[1;33m\u001b[0m\u001b[1;33m\u001b[0m\u001b[0m\n\u001b[1;32m--> 947\u001b[1;33m       \u001b[1;32mreturn\u001b[0m \u001b[0mself\u001b[0m\u001b[1;33m.\u001b[0m\u001b[0m_stateless_fn\u001b[0m\u001b[1;33m(\u001b[0m\u001b[1;33m*\u001b[0m\u001b[0margs\u001b[0m\u001b[1;33m,\u001b[0m \u001b[1;33m**\u001b[0m\u001b[0mkwds\u001b[0m\u001b[1;33m)\u001b[0m  \u001b[1;31m# pylint: disable=not-callable\u001b[0m\u001b[1;33m\u001b[0m\u001b[1;33m\u001b[0m\u001b[0m\n\u001b[0m\u001b[0;32m    948\u001b[0m     \u001b[1;32melif\u001b[0m \u001b[0mself\u001b[0m\u001b[1;33m.\u001b[0m\u001b[0m_stateful_fn\u001b[0m \u001b[1;32mis\u001b[0m \u001b[1;32mnot\u001b[0m \u001b[1;32mNone\u001b[0m\u001b[1;33m:\u001b[0m\u001b[1;33m\u001b[0m\u001b[1;33m\u001b[0m\u001b[0m\n\u001b[0;32m    949\u001b[0m       \u001b[1;31m# Release the lock early so that multiple threads can perform the call\u001b[0m\u001b[1;33m\u001b[0m\u001b[1;33m\u001b[0m\u001b[1;33m\u001b[0m\u001b[0m\n",
      "\u001b[1;32m~\\AppData\\Local\\Programs\\Python\\Python39\\lib\\site-packages\\tensorflow\\python\\eager\\function.py\u001b[0m in \u001b[0;36m__call__\u001b[1;34m(self, *args, **kwargs)\u001b[0m\n\u001b[0;32m   2954\u001b[0m       (graph_function,\n\u001b[0;32m   2955\u001b[0m        filtered_flat_args) = self._maybe_define_function(args, kwargs)\n\u001b[1;32m-> 2956\u001b[1;33m     return graph_function._call_flat(\n\u001b[0m\u001b[0;32m   2957\u001b[0m         filtered_flat_args, captured_inputs=graph_function.captured_inputs)  # pylint: disable=protected-access\n\u001b[0;32m   2958\u001b[0m \u001b[1;33m\u001b[0m\u001b[0m\n",
      "\u001b[1;32m~\\AppData\\Local\\Programs\\Python\\Python39\\lib\\site-packages\\tensorflow\\python\\eager\\function.py\u001b[0m in \u001b[0;36m_call_flat\u001b[1;34m(self, args, captured_inputs, cancellation_manager)\u001b[0m\n\u001b[0;32m   1851\u001b[0m         and executing_eagerly):\n\u001b[0;32m   1852\u001b[0m       \u001b[1;31m# No tape is watching; skip to running the function.\u001b[0m\u001b[1;33m\u001b[0m\u001b[1;33m\u001b[0m\u001b[1;33m\u001b[0m\u001b[0m\n\u001b[1;32m-> 1853\u001b[1;33m       return self._build_call_outputs(self._inference_function.call(\n\u001b[0m\u001b[0;32m   1854\u001b[0m           ctx, args, cancellation_manager=cancellation_manager))\n\u001b[0;32m   1855\u001b[0m     forward_backward = self._select_forward_and_backward_functions(\n",
      "\u001b[1;32m~\\AppData\\Local\\Programs\\Python\\Python39\\lib\\site-packages\\tensorflow\\python\\eager\\function.py\u001b[0m in \u001b[0;36mcall\u001b[1;34m(self, ctx, args, cancellation_manager)\u001b[0m\n\u001b[0;32m    497\u001b[0m       \u001b[1;32mwith\u001b[0m \u001b[0m_InterpolateFunctionError\u001b[0m\u001b[1;33m(\u001b[0m\u001b[0mself\u001b[0m\u001b[1;33m)\u001b[0m\u001b[1;33m:\u001b[0m\u001b[1;33m\u001b[0m\u001b[1;33m\u001b[0m\u001b[0m\n\u001b[0;32m    498\u001b[0m         \u001b[1;32mif\u001b[0m \u001b[0mcancellation_manager\u001b[0m \u001b[1;32mis\u001b[0m \u001b[1;32mNone\u001b[0m\u001b[1;33m:\u001b[0m\u001b[1;33m\u001b[0m\u001b[1;33m\u001b[0m\u001b[0m\n\u001b[1;32m--> 499\u001b[1;33m           outputs = execute.execute(\n\u001b[0m\u001b[0;32m    500\u001b[0m               \u001b[0mstr\u001b[0m\u001b[1;33m(\u001b[0m\u001b[0mself\u001b[0m\u001b[1;33m.\u001b[0m\u001b[0msignature\u001b[0m\u001b[1;33m.\u001b[0m\u001b[0mname\u001b[0m\u001b[1;33m)\u001b[0m\u001b[1;33m,\u001b[0m\u001b[1;33m\u001b[0m\u001b[1;33m\u001b[0m\u001b[0m\n\u001b[0;32m    501\u001b[0m               \u001b[0mnum_outputs\u001b[0m\u001b[1;33m=\u001b[0m\u001b[0mself\u001b[0m\u001b[1;33m.\u001b[0m\u001b[0m_num_outputs\u001b[0m\u001b[1;33m,\u001b[0m\u001b[1;33m\u001b[0m\u001b[1;33m\u001b[0m\u001b[0m\n",
      "\u001b[1;32m~\\AppData\\Local\\Programs\\Python\\Python39\\lib\\site-packages\\tensorflow\\python\\eager\\execute.py\u001b[0m in \u001b[0;36mquick_execute\u001b[1;34m(op_name, num_outputs, inputs, attrs, ctx, name)\u001b[0m\n\u001b[0;32m     52\u001b[0m   \u001b[1;32mtry\u001b[0m\u001b[1;33m:\u001b[0m\u001b[1;33m\u001b[0m\u001b[1;33m\u001b[0m\u001b[0m\n\u001b[0;32m     53\u001b[0m     \u001b[0mctx\u001b[0m\u001b[1;33m.\u001b[0m\u001b[0mensure_initialized\u001b[0m\u001b[1;33m(\u001b[0m\u001b[1;33m)\u001b[0m\u001b[1;33m\u001b[0m\u001b[1;33m\u001b[0m\u001b[0m\n\u001b[1;32m---> 54\u001b[1;33m     tensors = pywrap_tfe.TFE_Py_Execute(ctx._handle, device_name, op_name,\n\u001b[0m\u001b[0;32m     55\u001b[0m                                         inputs, attrs, num_outputs)\n\u001b[0;32m     56\u001b[0m   \u001b[1;32mexcept\u001b[0m \u001b[0mcore\u001b[0m\u001b[1;33m.\u001b[0m\u001b[0m_NotOkStatusException\u001b[0m \u001b[1;32mas\u001b[0m \u001b[0me\u001b[0m\u001b[1;33m:\u001b[0m\u001b[1;33m\u001b[0m\u001b[1;33m\u001b[0m\u001b[0m\n",
      "\u001b[1;31mKeyboardInterrupt\u001b[0m: "
     ]
    }
   ],
   "source": [
    "ensemble = fit_ensemble(100, Train_dataset, Val_dataset)\n",
    "X_test = validation_data.values[-window_len:]\n",
    "lower, mean, upper = ensemble_predictions(ensemble, X_test, n_forecast, window_len)"
   ]
  },
  {
   "cell_type": "code",
   "execution_count": 24,
   "id": "d8286d4d",
   "metadata": {
    "execution": {
     "iopub.execute_input": "2021-12-29T13:16:43.612667Z",
     "iopub.status.busy": "2021-12-29T13:16:43.611791Z",
     "iopub.status.idle": "2021-12-29T13:16:44.116504Z",
     "shell.execute_reply": "2021-12-29T13:16:44.117588Z",
     "shell.execute_reply.started": "2021-12-02T19:52:41.012123Z"
    },
    "papermill": {
     "duration": 0.840314,
     "end_time": "2021-12-29T13:16:44.117809",
     "exception": false,
     "start_time": "2021-12-29T13:16:43.277495",
     "status": "completed"
    },
    "tags": []
   },
   "outputs": [
    {
     "data": {
      "text/plain": [
       "Text(0, 0.5, 'Daily Load')"
      ]
     },
     "execution_count": 24,
     "metadata": {},
     "output_type": "execute_result"
    },
    {
     "data": {
      "image/png": "[encoded data removed]",
      "text/plain": [
       "<Figure size 432x288 with 1 Axes>"
      ]
     },
     "metadata": {
      "needs_background": "light"
     },
     "output_type": "display_data"
    }
   ],
   "source": [
    "x = Electric_day.iloc[-(window_len + n_forecast):]['Date'].values\n",
    "\n",
    "plt.figure(constrained_layout=True)\n",
    "plt.plot(x[:-n_forecast], X_test * (Load_max - Load_min) + Load_mean, label='True validation')\n",
    "plt.plot(x[-n_forecast:], mean * (Load_max - Load_min) + Load_mean, label='predicted')\n",
    "plt.fill_between(x[-n_forecast:], y1=lower * (Load_max - Load_min) + Load_mean, \n",
    "                 y2=upper * (Load_max - Load_min) + Load_mean, label='CI 95%', color='orange', alpha=0.5)\n",
    "plt.plot(x[-n_forecast:], test_data.values * (Load_max - Load_min) + Load_mean, label='True test')\n",
    "plt.xticks(rotation='vertical')\n",
    "plt.ylabel('Daily Load')"
   ]
  },
  {
   "cell_type": "markdown",
   "id": "7f4990d9",
   "metadata": {
    "papermill": {
     "duration": 0.348152,
     "end_time": "2021-12-29T13:16:44.972987",
     "exception": false,
     "start_time": "2021-12-29T13:16:44.624835",
     "status": "completed"
    },
    "tags": []
   },
   "source": [
    "# Plotting results for the report"
   ]
  },
  {
   "cell_type": "code",
   "execution_count": 25,
   "id": "2f01c75a",
   "metadata": {
    "execution": {
     "iopub.execute_input": "2021-12-29T13:16:45.553654Z",
     "iopub.status.busy": "2021-12-29T13:16:45.550866Z",
     "iopub.status.idle": "2021-12-29T13:16:45.601977Z",
     "shell.execute_reply": "2021-12-29T13:16:45.601548Z"
    },
    "papermill": {
     "duration": 0.343062,
     "end_time": "2021-12-29T13:16:45.602112",
     "exception": false,
     "start_time": "2021-12-29T13:16:45.259050",
     "status": "completed"
    },
    "tags": []
   },
   "outputs": [],
   "source": [
    "x = Electric_day.iloc[-(window_len + n_forecast):]['Date']\n",
    "cols = ['Load_mean', 'Load_low', 'Load_up']\n",
    "Electric_day.loc[Electric_day.Date.isin(x[-n_forecast:]), cols] = np.column_stack((mean, lower, upper))\n",
    "Electric_day.to_csv('lstm_results.csv', index=False)"
   ]
  },
  {
   "cell_type": "code",
   "execution_count": 26,
   "id": "dc8b6400",
   "metadata": {
    "execution": {
     "iopub.execute_input": "2021-12-29T13:16:46.200650Z",
     "iopub.status.busy": "2021-12-29T13:16:46.199795Z",
     "iopub.status.idle": "2021-12-29T13:16:46.735195Z",
     "shell.execute_reply": "2021-12-29T13:16:46.734396Z",
     "shell.execute_reply.started": "2021-12-02T19:52:41.638785Z"
    },
    "papermill": {
     "duration": 0.848616,
     "end_time": "2021-12-29T13:16:46.735322",
     "exception": false,
     "start_time": "2021-12-29T13:16:45.886706",
     "status": "completed"
    },
    "tags": []
   },
   "outputs": [
    {
     "name": "stderr",
     "output_type": "stream",
     "text": [
      "/opt/conda/lib/python3.7/site-packages/ipykernel_launcher.py:27: UserWarning: This figure was using constrained_layout, but that is incompatible with subplots_adjust and/or tight_layout; disabling constrained_layout.\n"
     ]
    },
    {
     "data": {
      "image/png": "[encoded data removed]",
      "text/plain": [
       "<Figure size 221.79x137.074 with 1 Axes>"
      ]
     },
     "metadata": {
      "needs_background": "light"
     },
     "output_type": "display_data"
    }
   ],
   "source": [
    "fig_width_pt = 222.62206                # Get this from LaTeX using \\the\\columnwidth\n",
    "inches_per_pt = 1.0/72.27               # Convert pt to inches\n",
    "golden_mean = (np.sqrt(5)-1.0)/2.0         # Aesthetic ratio\n",
    "fig_width = fig_width_pt*inches_per_pt  # width in inches\n",
    "fig_height =fig_width*golden_mean       # height in inches\n",
    "fig_size = [fig_width,fig_height]\n",
    "params = {'backend': 'ps',\n",
    "          'axes.labelsize': 10,\n",
    "          'legend.fontsize': 10,\n",
    "          'xtick.labelsize': 8,\n",
    "          'ytick.labelsize': 8,\n",
    "          'figure.figsize': fig_size}\n",
    "\n",
    "mpl.rcParams.update(params)\n",
    "\n",
    "x = Electric_day.iloc[-(window_len + n_forecast):]['Date']\n",
    "\n",
    "plt.figure(constrained_layout=True)\n",
    "plt.plot(x[:-n_forecast], X_test * (Load_max - Load_min) + Load_mean, label='True validation')\n",
    "plt.plot(x[-n_forecast:], mean * (Load_max - Load_min) + Load_mean, label='predicted')\n",
    "plt.fill_between(x[-n_forecast:], y1=lower * (Load_max - Load_min) + Load_mean, \n",
    "                 y2=upper * (Load_max - Load_min) + Load_mean, label='CI 95%', color='orange', alpha=0.5)\n",
    "plt.plot(x[-n_forecast:], test_data.values * (Load_max - Load_min) + Load_mean, label='True test')\n",
    "#plt.xticks(rotation='vertical')\n",
    "plt.ylabel('Daily Load')\n",
    "plt.grid()\n",
    "plt.tight_layout()\n",
    "#plt.legend()\n",
    "plt.savefig(\"./NN_LSTM_predictions.png\", dpi=800, transparent=False)\n"
   ]
  },
  {
   "cell_type": "code",
   "execution_count": null,
   "id": "d48ce88c",
   "metadata": {
    "papermill": {
     "duration": 0.283231,
     "end_time": "2021-12-29T13:16:47.303952",
     "exception": false,
     "start_time": "2021-12-29T13:16:47.020721",
     "status": "completed"
    },
    "tags": []
   },
   "outputs": [],
   "source": []
  }
 ],
 "metadata": {
  "kernelspec": {
   "display_name": "Python 3",
   "language": "python",
   "name": "python3"
  },
  "language_info": {
   "codemirror_mode": {
    "name": "ipython",
    "version": 3
   },
   "file_extension": ".py",
   "mimetype": "text/x-python",
   "name": "python",
   "nbconvert_exporter": "python",
   "pygments_lexer": "ipython3",
   "version": "3.9.6"
  },
  "papermill": {
   "default_parameters": {},
   "duration": 5101.166438,
   "end_time": "2021-12-29T13:16:51.410527",
   "environment_variables": {},
   "exception": null,
   "input_path": "__notebook__.ipynb",
   "output_path": "__notebook__.ipynb",
   "parameters": {},
   "start_time": "2021-12-29T11:51:50.244089",
   "version": "2.3.3"
  }
 },
 "nbformat": 4,
 "nbformat_minor": 5
}
