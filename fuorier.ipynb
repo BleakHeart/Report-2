{
 "cells": [
  {
   "cell_type": "code",
   "execution_count": 6,
   "source": [
    "import numpy as np \r\n",
    "import pandas as pd \r\n",
    "from datetime import timedelta"
   ],
   "outputs": [],
   "metadata": {}
  },
  {
   "cell_type": "code",
   "execution_count": 12,
   "source": [
    "def fourierExtrapolation(x, n_predict, n_harm=10):\r\n",
    "    n = x.size\r\n",
    "\r\n",
    "    t = np.arange(0, n)\r\n",
    "    p = np.polyfit(t, x, 1)\r\n",
    "\r\n",
    "    print(p)\r\n",
    "\r\n",
    "    x_notrend = x - p[0] * t - p[1]            # signal detrended \r\n",
    "    x_freqdom = np.fft.fft(x_notrend)   # signal in frequencies domain\r\n",
    "    f = np.fft.fftfreq(n)               # frequencies\r\n",
    "\r\n",
    "    indexes = list(range(n))\r\n",
    "    indexes.sort(key= lambda i: np.absolute(f[i]))\r\n",
    "\r\n",
    "    t = np.arange(0, n + n_predict)\r\n",
    "    restored_sign = np.zeros(t.size)\r\n",
    "\r\n",
    "    for i in indexes[:1 + n_harm * 2]:\r\n",
    "        amplitude = np.absolute(x_freqdom[i]) / n\r\n",
    "        phase = np.angle(x_freqdom[i])\r\n",
    "        restored_sign += amplitude * np.cos(2 * np.pi * f[i] * t + phase)\r\n",
    "    \r\n",
    "    return restored_sign + p[0] * t + p[1] "
   ],
   "outputs": [],
   "metadata": {}
  },
  {
   "cell_type": "code",
   "execution_count": 8,
   "source": [
    "data = pd.read_csv(\"Data/daneOkresoweKSE.csv\", sep=';', skiprows=1, names=['Date', 'Hour', 'Minute', 'Load'])\r\n",
    "Electric = data.copy()\r\n",
    "Electric['Date'] = pd.to_datetime(Electric.Date)\r\n",
    "\r\n",
    "Electric.loc[Electric.Hour == 24, 'Date'] = Electric.loc[Electric.Hour == 24, 'Date'] + timedelta(days=1)\r\n",
    "Electric.loc[Electric.Hour == 24, 'Hour'] = 0\r\n",
    "\r\n",
    "Electric.Date = pd.to_datetime(Electric.Date.astype(str) + ' ' + Electric['Hour'].astype(str) + ':' + Electric.Minute.astype(str) + ':00')\r\n",
    "Electric['Seconds'] = (Electric.Date - Electric.Date[0]).dt.total_seconds()\r\n",
    "Electric = Electric[['Date', 'Seconds', 'Load']]\r\n",
    "Electric['Day'] = Electric['Date'].dt.day_name()\r\n",
    "Electric['Minutes'] = Electric['Date'].dt.minute\r\n",
    "Electric['Hour'] = Electric['Date'].dt.hour\r\n",
    "Electric.columns"
   ],
   "outputs": [
    {
     "output_type": "execute_result",
     "data": {
      "text/plain": [
       "Index(['Date', 'Seconds', 'Load', 'Day', 'Minutes', 'Hour'], dtype='object')"
      ]
     },
     "metadata": {},
     "execution_count": 8
    }
   ],
   "metadata": {}
  },
  {
   "cell_type": "code",
   "execution_count": 13,
   "source": [
    "fourierExtrapolation(Electric.Load.values, int(96*7))"
   ],
   "outputs": [
    {
     "output_type": "stream",
     "name": "stdout",
     "text": [
      "[4.95513656e-03 1.71953128e+04]\n"
     ]
    },
    {
     "output_type": "execute_result",
     "data": {
      "text/plain": [
       "array([19057.88145551, 19057.90674369, 19057.93198438, ...,\n",
       "       20628.2464818 , 20628.23992651, 20628.23332362])"
      ]
     },
     "metadata": {},
     "execution_count": 13
    }
   ],
   "metadata": {}
  },
  {
   "cell_type": "code",
   "execution_count": null,
   "source": [],
   "outputs": [],
   "metadata": {}
  }
 ],
 "metadata": {
  "orig_nbformat": 4,
  "language_info": {
   "name": "python",
   "version": "3.9.6",
   "mimetype": "text/x-python",
   "codemirror_mode": {
    "name": "ipython",
    "version": 3
   },
   "pygments_lexer": "ipython3",
   "nbconvert_exporter": "python",
   "file_extension": ".py"
  },
  "kernelspec": {
   "name": "python3",
   "display_name": "Python 3.9.6 64-bit"
  },
  "interpreter": {
   "hash": "72e85bf8702a5531dd105b812468c0bac16632bcd99c74cc9ab556b094ff7be4"
  }
 },
 "nbformat": 4,
 "nbformat_minor": 2
}